{
 "cells": [
  {
   "cell_type": "markdown",
   "metadata": {
    "collapsed": true
   },
   "source": [
    "Past data tells you that the probability of a car stopping at a traffic light intersection is P(A)=0.40.\n",
    "\n",
    "\n",
    "You also know that the past probability of a traffic light being yellow (as opposed to red or green) is P(B)=0.10.\n",
    "\n",
    "When a car is stopped at an intersection, data shows that 12% of the time the light is yellow. So if we know a car is stopped, there's a 12% chance the light is yellow. This is called a conditional probability. If the traffic light is yellow, what is the chance that the car will stop?"
   ]
  },
  {
   "cell_type": "code",
   "execution_count": 1,
   "metadata": {
    "collapsed": false
   },
   "outputs": [
    {
     "data": {
      "text/plain": [
       "0.48"
      ]
     },
     "execution_count": 1,
     "metadata": {},
     "output_type": "execute_result"
    }
   ],
   "source": [
    "p_A = 0.40\n",
    "p_notA = 1 - p_A\n",
    "\n",
    "p_B_given_A = 0.12\n",
    "p_notB_given_A = 1 - p_B_given_A\n",
    "\n",
    "# P(B|-A) = ???\n",
    "# P(-B|-A)= ???\n",
    "\n",
    "p_B = 0.10\n",
    "p_notB = 1 - p_B\n",
    "\n",
    "p_A_given_B = (p_B_given_A * p_A)/(p_B)\n",
    "p_notA_given_B = 1 - p_A_given_B\n",
    "\n",
    "p_A_given_B"
   ]
  },
  {
   "cell_type": "code",
   "execution_count": null,
   "metadata": {
    "collapsed": true
   },
   "outputs": [],
   "source": []
  }
 ],
 "metadata": {
  "kernelspec": {
   "display_name": "Python 3",
   "language": "python",
   "name": "python3"
  },
  "language_info": {
   "codemirror_mode": {
    "name": "ipython",
    "version": 3
   },
   "file_extension": ".py",
   "mimetype": "text/x-python",
   "name": "python",
   "nbconvert_exporter": "python",
   "pygments_lexer": "ipython3",
   "version": "3.6.0"
  }
 },
 "nbformat": 4,
 "nbformat_minor": 2
}
