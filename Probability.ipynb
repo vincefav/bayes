{
 "cells": [
  {
   "cell_type": "markdown",
   "metadata": {
    "collapsed": true
   },
   "source": [
    "Past data tells you that the probability of a car stopping at a traffic light intersection is P(A)=0.40.\n",
    "\n",
    "\n",
    "You also know that the past probability of a traffic light being yellow (as opposed to red or green) is P(B)=0.10.\n",
    "\n",
    "When a car is stopped at an intersection, data shows that 12% of the time the light is yellow. So if we know a car is stopped, there's a 12% chance the light is yellow. This is called a conditional probability. If the traffic light is yellow, what is the chance that the car will stop?"
   ]
  },
  {
   "cell_type": "code",
   "execution_count": 1,
   "metadata": {
    "collapsed": false
   },
   "outputs": [
    {
     "data": {
      "text/plain": [
       "0.48"
      ]
     },
     "execution_count": 1,
     "metadata": {},
     "output_type": "execute_result"
    }
   ],
   "source": [
    "p_A = 0.40\n",
    "p_notA = 1 - p_A\n",
    "\n",
    "p_B_given_A = 0.12\n",
    "p_notB_given_A = 1 - p_B_given_A\n",
    "\n",
    "# P(B|-A) = ???\n",
    "# P(-B|-A)= ???\n",
    "\n",
    "p_B = 0.10\n",
    "p_notB = 1 - p_B\n",
    "\n",
    "p_A_given_B = (p_B_given_A * p_A)/(p_B)\n",
    "p_notA_given_B = 1 - p_A_given_B\n",
    "\n",
    "p_A_given_B"
   ]
  },
  {
   "cell_type": "markdown",
   "metadata": {
    "collapsed": true
   },
   "source": [
    "On a four-lane highway, cars are either going fast or not fast. Faster cars should go in the leftmost lanes.\n",
    "\n",
    "At any given time, 20% of cars are in the left-most lane.\n",
    "\n",
    "Overall, 40% of cars on the highway are classified as going fast.\n",
    "\n",
    "Out of all the cars in the leftmost lane, 90% are going fast.\n",
    "\n",
    "\n",
    "Given the above information, if a car is going fast, what is the probability that it will be in the leftmost lane?"
   ]
  },
  {
   "cell_type": "code",
   "execution_count": 7,
   "metadata": {
    "collapsed": false,
    "scrolled": true
   },
   "outputs": [
    {
     "data": {
      "text/plain": [
       "0.45"
      ]
     },
     "execution_count": 7,
     "metadata": {},
     "output_type": "execute_result"
    }
   ],
   "source": [
    "# Left lane\n",
    "p_A = .2\n",
    "p_notA = 1 - p_A\n",
    "\n",
    "# Fast\n",
    "p_B = .4\n",
    "p_notB = 1 - p_B\n",
    "\n",
    "p_B_given_A = .9\n",
    "p_notB_given_A = 1 - p_B_given_A\n",
    "\n",
    "p_A_given_B = (p_B_given_A * p_A)/(p_B)\n",
    "p_notA_given_B = 1 - p_A_given_B\n",
    "\n",
    "p_A_given_B"
   ]
  },
  {
   "cell_type": "markdown",
   "metadata": {
    "collapsed": true
   },
   "source": [
    "# Uniform Probability Distribution Function\n",
    "\n",
    "The probability_uniform function calculates the probability of an event\n",
    "given a range of values from a uniform continuous probability distribution. \n",
    "\n",
    "- low_range is the low end of the region of interest\n",
    "\n",
    "- high_range is the high end of the region of interest\n",
    "\n",
    "- minimum is the minimum value of the uniform probability \n",
    "  distribution (0 for a spinning wheel)\n",
    "\n",
    "- maximum is the maximum value of the uniform probability \n",
    "  distribution (360 for a spinning wheel).\n"
   ]
  },
  {
   "cell_type": "code",
   "execution_count": 1,
   "metadata": {
    "collapsed": true
   },
   "outputs": [],
   "source": [
    "def probability_uniform(low_range, high_range, minimum, maximum):\n",
    "    \n",
    "    ## TODO: Calculate the probability of an event occurring \n",
    "    ## between low_range and high_range.\n",
    "    ## Assume the user has given valid inputs such that low_range < high_range.\n",
    "    ##   minimum < maximum\n",
    "    ##\n",
    "\n",
    "    total_range = maximum - minimum\n",
    "    desired_range = high_range - low_range\n",
    "    probability = desired_range/total_range\n",
    "    \n",
    "    return probability\n",
    "    \n",
    "\n",
    "## TODO: Test your results by running this cell.\n",
    "## If the cell produces no output, your answer was as expected\n",
    "\n",
    "assert \"{0:.2f}\".format(probability_uniform(15, 305, 0, 360)) == '0.81'\n",
    "assert \"{0:.2f}\".format(probability_uniform(1, 5, 0, 10)) == '0.40'"
   ]
  },
  {
   "cell_type": "markdown",
   "metadata": {},
   "source": [
    "# Improving Your Code\n",
    "\n",
    "### Skills in this Excercise\n",
    "* Checking for incorrect inputs\n",
    "* Improving functions for edge cases\n",
    "* Debugging\n",
    "\n",
    "### Improving Your Function\n",
    "\n",
    "Your `probability_uniform` function should work at this point. But, you might run into a couple of problems. \n",
    "\n",
    "1. What happens if you call your function like this: `probability_range(35, 20, 0, 360)` ?\n",
    "2. What happens if you input an angle that is outside the possibilities of the bottle's possible outcomes like probability_range(-25, 390, 0, 360)?\n",
    "3. What if you call your function like this: probability_range('a', 'b', 0, 360)?\n",
    "\n",
    "When writing functions, it's important to think of edge cases or incorrect user input. \n",
    "\n",
    "Here are three more task to help deal with these situations:\n",
    "* Make sure the function outputs a valid probability when low_range is greater than high_range. Hint: there is more than one way to do this: \n",
    "  * For example, using absolute value\n",
    " * comparing low_range and high_range  to see which one is greater\n",
    "* Check the inputs to the function to make sure they are not strings. If the user inputted a string, the function should return None. Optionally, print out a message to the user as well explaining why the function put out None. This exercise might seem trivial, but if you try to do something like `'my_string'/2` in python, you will get an error. Debugging the errors and avoiding them is a key programming skill. \n",
    "* Check that the user has only inputted low_range and high_range values that are in between minimum and maximum. If an input is out of the allowed range, return None. Optionally, print out a message to the user as well explaining why the function put out None.\n",
    "\n",
    "Write a function called `probability_range_improved` that takes into account these three tasks."
   ]
  },
  {
   "cell_type": "code",
   "execution_count": 2,
   "metadata": {
    "collapsed": false
   },
   "outputs": [
    {
     "name": "stdout",
     "output_type": "stream",
     "text": [
      "Inputs should be numbers not string\n",
      "Your low range value must be between minimum and maximum\n",
      "The high range value must be between minimum and maximum\n"
     ]
    }
   ],
   "source": [
    "def probability_range_improved(low_range, high_range, minimum, maximum):\n",
    "\n",
    "    # TODO: check if any of the inputs are strings.\n",
    "    # hint: the python function isinstance() will be useful\n",
    "    for num in low_range, high_range, minimum, maximum:\n",
    "        if isinstance(num, str):\n",
    "            # print a message to the user and return none\n",
    "            print('Inputs should be numbers not string')\n",
    "            return None\n",
    "    \n",
    "    # TODO check that low_range is between minimum and maximum\n",
    "    if low_range < minimum or low_range > maximum:\n",
    "        # print a message to the user and return none\n",
    "        print('Your low range value must be between minimum and maximum')\n",
    "        return None\n",
    "        \n",
    "    # check that high_range is between min and max\n",
    "    if high_range < minimum or high_range > maximum:\n",
    "        # print a message to the user and return none\n",
    "        print('The high range value must be between minimum and maximum')\n",
    "        return None\n",
    "\n",
    "    # TODO: calulate and return the probability \n",
    "    # even if low range is greater than high range\n",
    "    total_range = abs(maximum - minimum)\n",
    "    desired_range = abs(high_range - low_range)\n",
    "    probability = desired_range/total_range\n",
    "    return probability\n",
    "\n",
    "\n",
    "assert probability_range_improved('a', 0, -100, 500) == None\n",
    "assert probability_range_improved(-100, 300, 100, 500) == None\n",
    "assert probability_range_improved(105, 700, 100, 500) == None\n",
    "assert \"{0:.2f}\".format(probability_range_improved(25, 700, 5, 800)) == '0.85'\n",
    "assert \"{0:.2f}\".format(probability_range_improved(700, 25, 5, 800)) == '0.85'"
   ]
  },
  {
   "cell_type": "code",
   "execution_count": 8,
   "metadata": {
    "collapsed": false
   },
   "outputs": [
    {
     "name": "stdout",
     "output_type": "stream",
     "text": [
      "Populating the interactive namespace from numpy and matplotlib\n"
     ]
    },
    {
     "data": {
      "image/png": "[encoded data removed]",
      "text/plain": [
       "<matplotlib.figure.Figure at 0x29450cd6fd0>"
      ]
     },
     "metadata": {},
     "output_type": "display_data"
    }
   ],
   "source": [
    "import matplotlib.pyplot as plt\n",
    "import matplotlib.ticker as plticker\n",
    "import numpy as np\n",
    "%pylab inline\n",
    "\n",
    "def plot_uniform(x_minimum, x_maximum, tick_interval):\n",
    "        \n",
    "    # TODO: Using x_maximum and x_minimum, calculate the height of the\n",
    "    # rectangle that represents the uniform probability distribution\n",
    "    # Recall that the rectangle area should be 1 for a uniform continuous\n",
    "    # distribution \n",
    "    x = range(x_minimum, x_maximum + 1)\n",
    "    y = 1/(x_maximum - x_minimum)\n",
    "    \n",
    "    plt.bar(x_minimum, y, bottom=0, width= (x_maximum - x_minimum), align='edge', alpha=0.5)\n",
    "    plt.xlabel('Degrees')\n",
    "    plt.ylabel('Probability Distribution')\n",
    "    plt.title('Uniform Probability Distribution \\n for a Spinning Bottle')\n",
    "    plt.xticks(np.arange(min(x), max(x)+1, .25*x_maximum//tick_interval))\n",
    "    plt.show()\n",
    "    \n",
    "plot_uniform(0, 360, 1)"
   ]
  },
  {
   "cell_type": "markdown",
   "metadata": {},
   "source": [
    "# Visualizing a discrete distribution\n",
    "\n",
    "Here is an example input and output:\n",
    "- a vehicle accident is 5 times more likely from 5am to 10am versus midnight to 5am. \n",
    "- a vehicle accident is 3 times more likely from 10am to 4pm versus midnight to 5am.\n",
    "- a vehicle accident is 6 times more likely from 4pm to 9pm versus midnight to 5am.\n",
    "- a vehicle accident is 1/2 as likely from 9pm to midnight versus midnight to 5am.\n",
    "\n",
    "The probability of getting in an accident on any given day is .05\n",
    "\n",
    "The inputs would look like this.  For the hours, you can use 24 hour time:\n",
    "\n",
    "hour_intervals = [0, 5, 10, 16, 21, 24]\n",
    "\n",
    "relative_probabilities = [1, 5, 3, 6, 0.5]\n",
    "\n",
    "total_probability = 0.05"
   ]
  },
  {
   "cell_type": "code",
   "execution_count": 26,
   "metadata": {
    "collapsed": true
   },
   "outputs": [],
   "source": [
    "import matplotlib.pyplot as plt\n",
    "import numpy as np\n",
    "\n",
    "def bar_heights(intervals, probabilities, total_probability):\n",
    "\n",
    "    heights = []\n",
    "    \n",
    "    #TODO: sum the relative probabilities\n",
    "    total_relative_prob = sum(probabilities)\n",
    "    \n",
    "    for i in range(0, len(probabilities)):\n",
    "        \n",
    "        #TODO: Looping through the probabilities list, \n",
    "        #      take one probability at a time and \n",
    "        #      calculate the area of each bar. Think about how you can \n",
    "        #      calculate the area of a bar knowing the total_probability,\n",
    "        #      relative probability, and the sum of the relative probabilities\n",
    "        bar_area = probabilities[i]/total_relative_prob\n",
    "        \n",
    "        # TODO: Calculate the height of the bar and append the value to the\n",
    "        # heights list.Remember that the area of each bar \n",
    "        # is the width of the bar times the height of the bar\n",
    "        bar_width = (intervals[i+1] - intervals[i])\n",
    "        heights.append(bar_area/bar_width)\n",
    "        \n",
    "    return heights"
   ]
  },
  {
   "cell_type": "code",
   "execution_count": 27,
   "metadata": {
    "collapsed": false
   },
   "outputs": [
    {
     "name": "stdout",
     "output_type": "stream",
     "text": [
      "[0.012903225806451613, 0.06451612903225806, 0.03225806451612903, 0.07741935483870968, 0.01075268817204301]\n"
     ]
    }
   ],
   "source": [
    "# Run to test\n",
    "print(bar_heights([0, 5, 10, 16, 21, 24], [1, 5, 3, 6, 0.5], 0.05))"
   ]
  },
  {
   "cell_type": "markdown",
   "metadata": {},
   "source": [
    "### Visualize Results\n",
    "\n",
    "Once the bar_heights function is working, here is some code to visualize your results."
   ]
  },
  {
   "cell_type": "code",
   "execution_count": 31,
   "metadata": {
    "collapsed": false
   },
   "outputs": [
    {
     "data": {
      "image/png": "[encoded data removed]",
      "text/plain": [
       "<matplotlib.figure.Figure at 0x1bc6775f160>"
      ]
     },
     "metadata": {},
     "output_type": "display_data"
    }
   ],
   "source": [
    "hour_intervals = [0, 5, 10, 16, 21, 24]\n",
    "probability_intervals = [1, 5, 3, 6, 1/2]\n",
    "accident_probability = 0.05\n",
    "\n",
    "heights = bar_heights(hour_intervals, probability_intervals, accident_probability)\n",
    "freqs = np.array(heights)\n",
    "bins = np.array(hour_intervals)\n",
    "widths = bins[1:] - bins[:-1]\n",
    "freqs = freqs.astype(np.float)\n",
    "\n",
    "widths = bins[1:] - bins[:-1]\n",
    "\n",
    "tick_interval = 2\n",
    "plt.bar(bins[:-1], freqs, width=widths, align='edge', edgecolor='black', alpha=0.5)\n",
    "plt.xlabel('Interval')\n",
    "plt.ylabel('Probability Distribution')\n",
    "plt.title('Probability Distribution')\n",
    "plt.xticks(np.arange(min(bins), max(bins)+1, tick_interval))\n",
    "\n",
    "plt.show()"
   ]
  },
  {
   "cell_type": "markdown",
   "metadata": {},
   "source": [
    "Let's say babies are twice as likely to be born in the AM vs. PM.\n",
    "\n",
    "Let *a* be the height of AM, and *b* be the height of PM.\n",
    "\n",
    "b = 1/3 * 1/12 = 1/36\n",
    "a = 2/3 * 1/12 = 1/18"
   ]
  },
  {
   "cell_type": "code",
   "execution_count": 25,
   "metadata": {
    "collapsed": false
   },
   "outputs": [
    {
     "data": {
      "image/png": "[encoded data removed]",
      "text/plain": [
       "<matplotlib.figure.Figure at 0x1bc678aaf60>"
      ]
     },
     "metadata": {},
     "output_type": "display_data"
    }
   ],
   "source": [
    "hour_intervals = [0, 12, 24]\n",
    "probability_intervals = [2,1]\n",
    "accident_probability = 1\n",
    "\n",
    "heights = bar_heights(hour_intervals, probability_intervals, accident_probability)\n",
    "freqs = np.array(heights)\n",
    "bins = np.array(hour_intervals)\n",
    "widths = bins[1:] - bins[:-1]\n",
    "freqs = freqs.astype(np.float)\n",
    "\n",
    "widths = bins[1:] - bins[:-1]\n",
    "\n",
    "tick_interval = 4\n",
    "plt.bar(bins[:-1], freqs, width=widths, align='edge', edgecolor='black', alpha=0.5,)\n",
    "plt.xlabel('Interval')\n",
    "plt.ylabel('Probability Distribution')\n",
    "plt.title('Probability Distribution')\n",
    "plt.xticks(np.arange(min(bins), max(bins)+1, tick_interval))\n",
    "\n",
    "plt.show()"
   ]
  },
  {
   "cell_type": "markdown",
   "metadata": {},
   "source": [
    "Notice that the first  bar has exactly twice the area of the 2nd bar."
   ]
  },
  {
   "cell_type": "code",
   "execution_count": 24,
   "metadata": {
    "collapsed": false
   },
   "outputs": [
    {
     "data": {
      "text/plain": [
       "(0.05555555555555555, 0.027777777777777776)"
      ]
     },
     "execution_count": 24,
     "metadata": {},
     "output_type": "execute_result"
    }
   ],
   "source": [
    "1/18, 1/36"
   ]
  },
  {
   "cell_type": "markdown",
   "metadata": {},
   "source": [
    "# Determining location of a robot\n",
    "\n",
    "Less about probability, more about object-oriented programming."
   ]
  },
  {
   "cell_type": "code",
   "execution_count": 34,
   "metadata": {
    "collapsed": true
   },
   "outputs": [],
   "source": [
    "import matplotlib.pyplot as plt\n",
    "from pandas import DataFrame\n",
    "import numpy as np\n",
    "\n",
    "class SelfDrivingCar():\n",
    "    def __init__(self, rows, columns):\n",
    "        \n",
    "        # initializes a map as a list\n",
    "        self.grid = []\n",
    "\n",
    "        ### TODO:\n",
    "        # initialize variables\n",
    "        # self.grid_size is a list containing the number of rows\n",
    "        # and number of columns in the grid like [10,3]. Use the rows and \n",
    "        # columns input variables to define self.grid_size\n",
    "        self.grid_size = [rows, columns]\n",
    "        \n",
    "        ### TODO: \n",
    "        # store the total number of elements in the grid. The number\n",
    "        # of elements would be the rows * columns\n",
    "        self.num_elements = rows * columns\n",
    "        \n",
    "    ### TODO:\n",
    "    # write the function that initializes the grid. Remember that\n",
    "    # when the robot turns on, it has no idea where it is. So if there\n",
    "    # are 25 points on the grid, the initial probability of each point\n",
    "    # is 1/25.\n",
    "    # You will create a 2-D map using a python list. This can be\n",
    "    # a bit tricky, and you might have to search online for how to\n",
    "    # program a 2-D list in python. A 2-D list will need a for loop\n",
    "    # within a for loop\n",
    "    \n",
    "    def initialize_grid(self):\n",
    "        \n",
    "        ### TODO: \n",
    "        # calculate the probability of being at any element on the grid\n",
    "        # you can use the self.num_elements variable you defined in the\n",
    "        # __init__ function\n",
    "        probability = 1/self.num_elements\n",
    "        \n",
    "        ### TODO:\n",
    "        # write a for loop to fill out the 2-D map with the value in the\n",
    "        # probability variable. For example, if the map has 25 points,\n",
    "        # the map should be initialized to map[0,0] = 0.04 \n",
    "        # map[0,1] = 0.04\n",
    "        # map[0, 2] = 0.04\n",
    "        # etc.\n",
    "        # python''s list.append() functionality might be helpful\n",
    "        ### \n",
    "        self.grid = np.zeros(self.grid_size)\n",
    "        self.grid.fill(probability)\n",
    "        \n",
    "        return self.grid\n",
    "    \n",
    "    def output_probability(self, grid_point):\n",
    "        \n",
    "        ### TODO:\n",
    "        # Given a point on the grid, such as [0,4] return the\n",
    "        # current probability at that point.\n",
    "        # You will need to use the self.map variable and combine it\n",
    "        # with the grid_point and then return the probability\n",
    "        return self.grid[grid_point[0], grid_point[1]]\n",
    "    \n",
    "    def update_probability(self, update_list):\n",
    "        \n",
    "        #### TODO:\n",
    "        # Given a list of grid_points and new probabilities, \n",
    "        # update the probabilities of the grid points.\n",
    "        # Here is an example input to this function\n",
    "        # [[3,4,.01], [4,5,.02], [0, 1, .02]]\n",
    "        # This means first update grid point (3,4) to have probability 0.01\n",
    "        # Then update grid point (4,5) to have probability 0.02\n",
    "        # Finally update grid point (0, 1) to have probability 0.02.\n",
    "        # Your function will be updating the elements in the self.map variable\n",
    "        for row, col, val in update_list:\n",
    "            self.grid[row, col] = val\n",
    "        \n",
    "        return self.grid\n",
    "            \n",
    "    def visualize_probability(self):\n",
    "        # this function is given so that you can visualize the results.\n",
    "        # There is no need to change anything.\n",
    "\n",
    "        # this line of code ensures TEST RUN button does not produce an error\n",
    "        # if self.grid is empty.\n",
    "        try:\n",
    "            plt.imshow(self.grid, cmap='Greys', clim=(0,.1))\n",
    "            plt.title('Heat Map of Grid Probabilities')\n",
    "            plt.xlabel('grid x axis')\n",
    "            plt.ylabel('grid y axis')\n",
    "            plt.show()\n",
    "        except:\n",
    "            plt.imshow([0,0], cmap='Greys', clim=(0,.1))\n",
    "            plt.title('Heat Map of Grid Probabilities')\n",
    "            plt.xlabel('grid x axis')\n",
    "            plt.ylabel('grid y axis')\n",
    "            plt.show()"
   ]
  },
  {
   "cell_type": "code",
   "execution_count": 35,
   "metadata": {
    "collapsed": false
   },
   "outputs": [
    {
     "name": "stdout",
     "output_type": "stream",
     "text": [
      "0.05\n",
      "0.05\n",
      "0.2\n",
      "0.1\n"
     ]
    },
    {
     "data": {
      "image/png": "[encoded data removed]",
      "text/plain": [
       "<matplotlib.figure.Figure at 0x1bc68502b38>"
      ]
     },
     "metadata": {},
     "output_type": "display_data"
    }
   ],
   "source": [
    "car = SelfDrivingCar(5,4)\n",
    "\n",
    "car.initialize_grid()\n",
    "\n",
    "# should output 0.05\n",
    "print(car.output_probability([2,3]))\n",
    "\n",
    "# should output 0.05\n",
    "print(car.output_probability([1,2]))\n",
    "\n",
    "car.update_probability([[2,3,.2], [1,2,.1]])\n",
    "\n",
    "# # should output 0.2\n",
    "print(car.output_probability([2,3]))\n",
    "\n",
    "# # should output 0.1\n",
    "print(car.output_probability([1,2]))\n",
    "\n",
    "# # should output a heat map\n",
    "car.visualize_probability()"
   ]
  },
  {
   "cell_type": "code",
   "execution_count": null,
   "metadata": {
    "collapsed": true
   },
   "outputs": [],
   "source": []
  }
 ],
 "metadata": {
  "anaconda-cloud": {},
  "kernelspec": {
   "display_name": "Python 3",
   "language": "python",
   "name": "python3"
  },
  "language_info": {
   "codemirror_mode": {
    "name": "ipython",
    "version": 3
   },
   "file_extension": ".py",
   "mimetype": "text/x-python",
   "name": "python",
   "nbconvert_exporter": "python",
   "pygments_lexer": "ipython3",
   "version": "3.6.0"
  }
 },
 "nbformat": 4,
 "nbformat_minor": 2
}
