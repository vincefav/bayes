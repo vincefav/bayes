{
 "cells": [
  {
   "cell_type": "markdown",
   "metadata": {
    "collapsed": true
   },
   "source": [
    "Past data tells you that the probability of a car stopping at a traffic light intersection is P(A)=0.40.\n",
    "\n",
    "\n",
    "You also know that the past probability of a traffic light being yellow (as opposed to red or green) is P(B)=0.10.\n",
    "\n",
    "When a car is stopped at an intersection, data shows that 12% of the time the light is yellow. So if we know a car is stopped, there's a 12% chance the light is yellow. This is called a conditional probability. If the traffic light is yellow, what is the chance that the car will stop?"
   ]
  },
  {
   "cell_type": "code",
   "execution_count": 1,
   "metadata": {
    "collapsed": false
   },
   "outputs": [
    {
     "data": {
      "text/plain": [
       "0.48"
      ]
     },
     "execution_count": 1,
     "metadata": {},
     "output_type": "execute_result"
    }
   ],
   "source": [
    "p_A = 0.40\n",
    "p_notA = 1 - p_A\n",
    "\n",
    "p_B_given_A = 0.12\n",
    "p_notB_given_A = 1 - p_B_given_A\n",
    "\n",
    "# P(B|-A) = ???\n",
    "# P(-B|-A)= ???\n",
    "\n",
    "p_B = 0.10\n",
    "p_notB = 1 - p_B\n",
    "\n",
    "p_A_given_B = (p_B_given_A * p_A)/(p_B)\n",
    "p_notA_given_B = 1 - p_A_given_B\n",
    "\n",
    "p_A_given_B"
   ]
  },
  {
   "cell_type": "markdown",
   "metadata": {
    "collapsed": true
   },
   "source": [
    "On a four-lane highway, cars are either going fast or not fast. Faster cars should go in the leftmost lanes.\n",
    "\n",
    "At any given time, 20% of cars are in the left-most lane.\n",
    "\n",
    "Overall, 40% of cars on the highway are classified as going fast.\n",
    "\n",
    "Out of all the cars in the leftmost lane, 90% are going fast.\n",
    "\n",
    "\n",
    "Given the above information, if a car is going fast, what is the probability that it will be in the leftmost lane?"
   ]
  },
  {
   "cell_type": "code",
   "execution_count": 7,
   "metadata": {
    "collapsed": false,
    "scrolled": true
   },
   "outputs": [
    {
     "data": {
      "text/plain": [
       "0.45"
      ]
     },
     "execution_count": 7,
     "metadata": {},
     "output_type": "execute_result"
    }
   ],
   "source": [
    "# Left lane\n",
    "p_A = .2\n",
    "p_notA = 1 - p_A\n",
    "\n",
    "# Fast\n",
    "p_B = .4\n",
    "p_notB = 1 - p_B\n",
    "\n",
    "p_B_given_A = .9\n",
    "p_notB_given_A = 1 - p_B_given_A\n",
    "\n",
    "p_A_given_B = (p_B_given_A * p_A)/(p_B)\n",
    "p_notA_given_B = 1 - p_A_given_B\n",
    "\n",
    "p_A_given_B"
   ]
  },
  {
   "cell_type": "markdown",
   "metadata": {
    "collapsed": true
   },
   "source": [
    "# Uniform Probability Distribution Function\n",
    "\n",
    "The probability_uniform function calculates the probability of an event\n",
    "given a range of values from a uniform continuous probability distribution. \n",
    "\n",
    "- low_range is the low end of the region of interest\n",
    "\n",
    "- high_range is the high end of the region of interest\n",
    "\n",
    "- minimum is the minimum value of the uniform probability \n",
    "  distribution (0 for a spinning wheel)\n",
    "\n",
    "- maximum is the maximum value of the uniform probability \n",
    "  distribution (360 for a spinning wheel).\n"
   ]
  },
  {
   "cell_type": "code",
   "execution_count": 1,
   "metadata": {
    "collapsed": true
   },
   "outputs": [],
   "source": [
    "def probability_uniform(low_range, high_range, minimum, maximum):\n",
    "    \n",
    "    ## TODO: Calculate the probability of an event occurring \n",
    "    ## between low_range and high_range.\n",
    "    ## Assume the user has given valid inputs such that low_range < high_range.\n",
    "    ##   minimum < maximum\n",
    "    ##\n",
    "\n",
    "    total_range = maximum - minimum\n",
    "    desired_range = high_range - low_range\n",
    "    probability = desired_range/total_range\n",
    "    \n",
    "    return probability\n",
    "    \n",
    "\n",
    "## TODO: Test your results by running this cell.\n",
    "## If the cell produces no output, your answer was as expected\n",
    "\n",
    "assert \"{0:.2f}\".format(probability_uniform(15, 305, 0, 360)) == '0.81'\n",
    "assert \"{0:.2f}\".format(probability_uniform(1, 5, 0, 10)) == '0.40'"
   ]
  },
  {
   "cell_type": "markdown",
   "metadata": {},
   "source": [
    "# Improving Your Code\n",
    "\n",
    "### Skills in this Excercise\n",
    "* Checking for incorrect inputs\n",
    "* Improving functions for edge cases\n",
    "* Debugging\n",
    "\n",
    "### Improving Your Function\n",
    "\n",
    "Your `probability_uniform` function should work at this point. But, you might run into a couple of problems. \n",
    "\n",
    "1. What happens if you call your function like this: `probability_range(35, 20, 0, 360)` ?\n",
    "2. What happens if you input an angle that is outside the possibilities of the bottle's possible outcomes like probability_range(-25, 390, 0, 360)?\n",
    "3. What if you call your function like this: probability_range('a', 'b', 0, 360)?\n",
    "\n",
    "When writing functions, it's important to think of edge cases or incorrect user input. \n",
    "\n",
    "Here are three more task to help deal with these situations:\n",
    "* Make sure the function outputs a valid probability when low_range is greater than high_range. Hint: there is more than one way to do this: \n",
    "  * For example, using absolute value\n",
    " * comparing low_range and high_range  to see which one is greater\n",
    "* Check the inputs to the function to make sure they are not strings. If the user inputted a string, the function should return None. Optionally, print out a message to the user as well explaining why the function put out None. This exercise might seem trivial, but if you try to do something like `'my_string'/2` in python, you will get an error. Debugging the errors and avoiding them is a key programming skill. \n",
    "* Check that the user has only inputted low_range and high_range values that are in between minimum and maximum. If an input is out of the allowed range, return None. Optionally, print out a message to the user as well explaining why the function put out None.\n",
    "\n",
    "Write a function called `probability_range_improved` that takes into account these three tasks."
   ]
  },
  {
   "cell_type": "code",
   "execution_count": 2,
   "metadata": {
    "collapsed": false
   },
   "outputs": [
    {
     "name": "stdout",
     "output_type": "stream",
     "text": [
      "Inputs should be numbers not string\n",
      "Your low range value must be between minimum and maximum\n",
      "The high range value must be between minimum and maximum\n"
     ]
    }
   ],
   "source": [
    "def probability_range_improved(low_range, high_range, minimum, maximum):\n",
    "\n",
    "    # TODO: check if any of the inputs are strings.\n",
    "    # hint: the python function isinstance() will be useful\n",
    "    for num in low_range, high_range, minimum, maximum:\n",
    "        if isinstance(num, str):\n",
    "            # print a message to the user and return none\n",
    "            print('Inputs should be numbers not string')\n",
    "            return None\n",
    "    \n",
    "    # TODO check that low_range is between minimum and maximum\n",
    "    if low_range < minimum or low_range > maximum:\n",
    "        # print a message to the user and return none\n",
    "        print('Your low range value must be between minimum and maximum')\n",
    "        return None\n",
    "        \n",
    "    # check that high_range is between min and max\n",
    "    if high_range < minimum or high_range > maximum:\n",
    "        # print a message to the user and return none\n",
    "        print('The high range value must be between minimum and maximum')\n",
    "        return None\n",
    "\n",
    "    # TODO: calulate and return the probability \n",
    "    # even if low range is greater than high range\n",
    "    total_range = abs(maximum - minimum)\n",
    "    desired_range = abs(high_range - low_range)\n",
    "    probability = desired_range/total_range\n",
    "    return probability\n",
    "\n",
    "\n",
    "assert probability_range_improved('a', 0, -100, 500) == None\n",
    "assert probability_range_improved(-100, 300, 100, 500) == None\n",
    "assert probability_range_improved(105, 700, 100, 500) == None\n",
    "assert \"{0:.2f}\".format(probability_range_improved(25, 700, 5, 800)) == '0.85'\n",
    "assert \"{0:.2f}\".format(probability_range_improved(700, 25, 5, 800)) == '0.85'"
   ]
  },
  {
   "cell_type": "code",
   "execution_count": 8,
   "metadata": {
    "collapsed": false
   },
   "outputs": [
    {
     "name": "stdout",
     "output_type": "stream",
     "text": [
      "Populating the interactive namespace from numpy and matplotlib\n"
     ]
    },
    {
     "data": {
      "image/png": "[encoded data removed]",
      "text/plain": [
       "<matplotlib.figure.Figure at 0x29450cd6fd0>"
      ]
     },
     "metadata": {},
     "output_type": "display_data"
    }
   ],
   "source": [
    "import matplotlib.pyplot as plt\n",
    "import matplotlib.ticker as plticker\n",
    "import numpy as np\n",
    "%pylab inline\n",
    "\n",
    "def plot_uniform(x_minimum, x_maximum, tick_interval):\n",
    "        \n",
    "    # TODO: Using x_maximum and x_minimum, calculate the height of the\n",
    "    # rectangle that represents the uniform probability distribution\n",
    "    # Recall that the rectangle area should be 1 for a uniform continuous\n",
    "    # distribution \n",
    "    x = range(x_minimum, x_maximum + 1)\n",
    "    y = 1/(x_maximum - x_minimum)\n",
    "    \n",
    "    plt.bar(x_minimum, y, bottom=0, width= (x_maximum - x_minimum), align='edge', alpha=0.5)\n",
    "    plt.xlabel('Degrees')\n",
    "    plt.ylabel('Probability Distribution')\n",
    "    plt.title('Uniform Probability Distribution \\n for a Spinning Bottle')\n",
    "    plt.xticks(np.arange(min(x), max(x)+1, .25*x_maximum//tick_interval))\n",
    "    plt.show()\n",
    "    \n",
    "plot_uniform(0, 360, 1)"
   ]
  },
  {
   "cell_type": "markdown",
   "metadata": {},
   "source": [
    "# Visualizing a discrete distribution\n",
    "\n",
    "Here is an example input and output:\n",
    "- a vehicle accident is 5 times more likely from 5am to 10am versus midnight to 5am. \n",
    "- a vehicle accident is 3 times more likely from 10am to 4pm versus midnight to 5am.\n",
    "- a vehicle accident is 6 times more likely from 4pm to 9pm versus midnight to 5am.\n",
    "- a vehicle accident is 1/2 as likely from 9pm to midnight versus midnight to 5am.\n",
    "\n",
    "The probability of getting in an accident on any given day is .05\n",
    "\n",
    "The inputs would look like this.  For the hours, you can use 24 hour time:\n",
    "\n",
    "hour_intervals = [0, 5, 10, 16, 21, 24]\n",
    "\n",
    "relative_probabilities = [1, 5, 3, 6, 0.5]\n",
    "\n",
    "total_probability = 0.05"
   ]
  },
  {
   "cell_type": "code",
   "execution_count": 9,
   "metadata": {
    "collapsed": true
   },
   "outputs": [],
   "source": [
    "import matplotlib.pyplot as plt\n",
    "import numpy as np\n",
    "\n",
    "def bar_heights(intervals, probabilities, total_probability):\n",
    "\n",
    "    heights = []\n",
    "    \n",
    "    #TODO: sum the relative probabilities\n",
    "    total_relative_prob = sum(probabilities)\n",
    "    \n",
    "    for i in range(0, len(probabilities)):\n",
    "        \n",
    "        #TODO: Looping through the probabilities list, \n",
    "        #      take one probability at a time and \n",
    "        #      calculate the area of each bar. Think about how you can \n",
    "        #      calculate the area of a bar knowing the total_probability,\n",
    "        #      relative probability, and the sum of the relative probabilities\n",
    "        \n",
    "        bar_area = probabilities[i]/total_relative_prob\n",
    "        \n",
    "        # TODO: Calculate the height of the bar and append the value to the\n",
    "        # heights list.Remember that the area of each bar \n",
    "        # is the width of the bar times the height of the bar\n",
    "        heights.append(bar_area/(intervals[i+1] - intervals[i]))\n",
    "        \n",
    "    return heights"
   ]
  },
  {
   "cell_type": "code",
   "execution_count": 10,
   "metadata": {
    "collapsed": false
   },
   "outputs": [
    {
     "name": "stdout",
     "output_type": "stream",
     "text": [
      "[0.012903225806451613, 0.064516129032258063, 0.032258064516129031, 0.077419354838709681, 0.01075268817204301]\n"
     ]
    }
   ],
   "source": [
    "# Run to test\n",
    "print(bar_heights([0, 5, 10, 16, 21, 24], [1, 5, 3, 6, 0.5], 0.05))"
   ]
  },
  {
   "cell_type": "markdown",
   "metadata": {},
   "source": [
    "### Visualize Results\n",
    "\n",
    "Once the bar_heights function is working, here is some code to visualize your results."
   ]
  },
  {
   "cell_type": "code",
   "execution_count": 11,
   "metadata": {
    "collapsed": false
   },
   "outputs": [
    {
     "data": {
      "image/png": "[encoded data removed]",
      "text/plain": [
       "<matplotlib.figure.Figure at 0x29450d08978>"
      ]
     },
     "metadata": {},
     "output_type": "display_data"
    }
   ],
   "source": [
    "hour_intervals = [0, 5, 10, 16, 21, 24]\n",
    "probability_intervals = [1, 5, 3, 6, 1/2]\n",
    "accident_probability = 0.05\n",
    "\n",
    "heights = bar_heights(hour_intervals, probability_intervals, accident_probability)\n",
    "freqs = np.array(heights)\n",
    "bins = np.array(hour_intervals)\n",
    "widths = bins[1:] - bins[:-1]\n",
    "freqs = freqs.astype(np.float)\n",
    "\n",
    "widths = bins[1:] - bins[:-1]\n",
    "\n",
    "tick_interval = 1\n",
    "plt.bar(bins[:-1], freqs, width=widths, align='edge', edgecolor='black', alpha=0.5)\n",
    "plt.xlabel('Interval')\n",
    "plt.ylabel('Probability Distribution')\n",
    "plt.title('Probability Distribution')\n",
    "plt.xticks(np.arange(min(bins), max(bins)+1, tick_interval))\n",
    "\n",
    "plt.show()"
   ]
  },
  {
   "cell_type": "code",
   "execution_count": null,
   "metadata": {
    "collapsed": true
   },
   "outputs": [],
   "source": []
  }
 ],
 "metadata": {
  "anaconda-cloud": {},
  "kernelspec": {
   "display_name": "Python [default]",
   "language": "python",
   "name": "python3"
  },
  "language_info": {
   "codemirror_mode": {
    "name": "ipython",
    "version": 3
   },
   "file_extension": ".py",
   "mimetype": "text/x-python",
   "name": "python",
   "nbconvert_exporter": "python",
   "pygments_lexer": "ipython3",
   "version": "3.5.2"
  }
 },
 "nbformat": 4,
 "nbformat_minor": 2
}
