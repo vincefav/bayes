{
 "cells": [
  {
   "cell_type": "markdown",
   "metadata": {
    "collapsed": true
   },
   "source": [
    "Past data tells you that the probability of a car stopping at a traffic light intersection is P(A)=0.40.\n",
    "\n",
    "\n",
    "You also know that the past probability of a traffic light being yellow (as opposed to red or green) is P(B)=0.10.\n",
    "\n",
    "When a car is stopped at an intersection, data shows that 12% of the time the light is yellow. So if we know a car is stopped, there's a 12% chance the light is yellow. This is called a conditional probability. If the traffic light is yellow, what is the chance that the car will stop?"
   ]
  },
  {
   "cell_type": "code",
   "execution_count": 1,
   "metadata": {
    "collapsed": false
   },
   "outputs": [
    {
     "data": {
      "text/plain": [
       "0.48"
      ]
     },
     "execution_count": 1,
     "metadata": {},
     "output_type": "execute_result"
    }
   ],
   "source": [
    "p_A = 0.40\n",
    "p_notA = 1 - p_A\n",
    "\n",
    "p_B_given_A = 0.12\n",
    "p_notB_given_A = 1 - p_B_given_A\n",
    "\n",
    "# P(B|-A) = ???\n",
    "# P(-B|-A)= ???\n",
    "\n",
    "p_B = 0.10\n",
    "p_notB = 1 - p_B\n",
    "\n",
    "p_A_given_B = (p_B_given_A * p_A)/(p_B)\n",
    "p_notA_given_B = 1 - p_A_given_B\n",
    "\n",
    "p_A_given_B"
   ]
  },
  {
   "cell_type": "markdown",
   "metadata": {
    "collapsed": true
   },
   "source": [
    "On a four-lane highway, cars are either going fast or not fast. Faster cars should go in the leftmost lanes.\n",
    "\n",
    "At any given time, 20% of cars are in the left-most lane.\n",
    "\n",
    "Overall, 40% of cars on the highway are classified as going fast.\n",
    "\n",
    "Out of all the cars in the leftmost lane, 90% are going fast.\n",
    "\n",
    "\n",
    "Given the above information, if a car is going fast, what is the probability that it will be in the leftmost lane?"
   ]
  },
  {
   "cell_type": "code",
   "execution_count": 7,
   "metadata": {
    "collapsed": false,
    "scrolled": true
   },
   "outputs": [
    {
     "data": {
      "text/plain": [
       "0.45"
      ]
     },
     "execution_count": 7,
     "metadata": {},
     "output_type": "execute_result"
    }
   ],
   "source": [
    "# Left lane\n",
    "p_A = .2\n",
    "p_notA = 1 - p_A\n",
    "\n",
    "# Fast\n",
    "p_B = .4\n",
    "p_notB = 1 - p_B\n",
    "\n",
    "p_B_given_A = .9\n",
    "p_notB_given_A = 1 - p_B_given_A\n",
    "\n",
    "p_A_given_B = (p_B_given_A * p_A)/(p_B)\n",
    "p_notA_given_B = 1 - p_A_given_B\n",
    "\n",
    "p_A_given_B"
   ]
  },
  {
   "cell_type": "markdown",
   "metadata": {
    "collapsed": true
   },
   "source": [
    "# Uniform Probability Distribution Function\n",
    "\n",
    "The probability_uniform function calculates the probability of an event\n",
    "given a range of values from a uniform continuous probability distribution. \n",
    "\n",
    "- low_range is the low end of the region of interest\n",
    "\n",
    "- high_range is the high end of the region of interest\n",
    "\n",
    "- minimum is the minimum value of the uniform probability \n",
    "  distribution (0 for a spinning wheel)\n",
    "\n",
    "- maximum is the maximum value of the uniform probability \n",
    "  distribution (360 for a spinning wheel).\n"
   ]
  },
  {
   "cell_type": "code",
   "execution_count": 1,
   "metadata": {
    "collapsed": true
   },
   "outputs": [],
   "source": [
    "def probability_uniform(low_range, high_range, minimum, maximum):\n",
    "    \n",
    "    ## TODO: Calculate the probability of an event occurring \n",
    "    ## between low_range and high_range.\n",
    "    ## Assume the user has given valid inputs such that low_range < high_range.\n",
    "    ##   minimum < maximum\n",
    "    ##\n",
    "\n",
    "    total_range = maximum - minimum\n",
    "    desired_range = high_range - low_range\n",
    "    probability = desired_range/total_range\n",
    "    \n",
    "    return probability\n",
    "    \n",
    "\n",
    "## TODO: Test your results by running this cell.\n",
    "## If the cell produces no output, your answer was as expected\n",
    "\n",
    "assert \"{0:.2f}\".format(probability_uniform(15, 305, 0, 360)) == '0.81'\n",
    "assert \"{0:.2f}\".format(probability_uniform(1, 5, 0, 10)) == '0.40'"
   ]
  },
  {
   "cell_type": "markdown",
   "metadata": {},
   "source": [
    "# Improving Your Code\n",
    "\n",
    "### Skills in this Excercise\n",
    "* Checking for incorrect inputs\n",
    "* Improving functions for edge cases\n",
    "* Debugging\n",
    "\n",
    "### Improving Your Function\n",
    "\n",
    "Your `probability_uniform` function should work at this point. But, you might run into a couple of problems. \n",
    "\n",
    "1. What happens if you call your function like this: `probability_range(35, 20, 0, 360)` ?\n",
    "2. What happens if you input an angle that is outside the possibilities of the bottle's possible outcomes like probability_range(-25, 390, 0, 360)?\n",
    "3. What if you call your function like this: probability_range('a', 'b', 0, 360)?\n",
    "\n",
    "When writing functions, it's important to think of edge cases or incorrect user input. \n",
    "\n",
    "Here are three more task to help deal with these situations:\n",
    "* Make sure the function outputs a valid probability when low_range is greater than high_range. Hint: there is more than one way to do this: \n",
    "  * For example, using absolute value\n",
    " * comparing low_range and high_range  to see which one is greater\n",
    "* Check the inputs to the function to make sure they are not strings. If the user inputted a string, the function should return None. Optionally, print out a message to the user as well explaining why the function put out None. This exercise might seem trivial, but if you try to do something like `'my_string'/2` in python, you will get an error. Debugging the errors and avoiding them is a key programming skill. \n",
    "* Check that the user has only inputted low_range and high_range values that are in between minimum and maximum. If an input is out of the allowed range, return None. Optionally, print out a message to the user as well explaining why the function put out None.\n",
    "\n",
    "Write a function called `probability_range_improved` that takes into account these three tasks."
   ]
  },
  {
   "cell_type": "code",
   "execution_count": 2,
   "metadata": {
    "collapsed": false
   },
   "outputs": [
    {
     "name": "stdout",
     "output_type": "stream",
     "text": [
      "Inputs should be numbers not string\n",
      "Your low range value must be between minimum and maximum\n",
      "The high range value must be between minimum and maximum\n"
     ]
    }
   ],
   "source": [
    "def probability_range_improved(low_range, high_range, minimum, maximum):\n",
    "\n",
    "    # TODO: check if any of the inputs are strings.\n",
    "    # hint: the python function isinstance() will be useful\n",
    "    for num in low_range, high_range, minimum, maximum:\n",
    "        if isinstance(num, str):\n",
    "            # print a message to the user and return none\n",
    "            print('Inputs should be numbers not string')\n",
    "            return None\n",
    "    \n",
    "    # TODO check that low_range is between minimum and maximum\n",
    "    if low_range < minimum or low_range > maximum:\n",
    "        # print a message to the user and return none\n",
    "        print('Your low range value must be between minimum and maximum')\n",
    "        return None\n",
    "        \n",
    "    # check that high_range is between min and max\n",
    "    if high_range < minimum or high_range > maximum:\n",
    "        # print a message to the user and return none\n",
    "        print('The high range value must be between minimum and maximum')\n",
    "        return None\n",
    "\n",
    "    # TODO: calulate and return the probability \n",
    "    # even if low range is greater than high range\n",
    "    total_range = abs(maximum - minimum)\n",
    "    desired_range = abs(high_range - low_range)\n",
    "    probability = desired_range/total_range\n",
    "    return probability\n",
    "\n",
    "\n",
    "assert probability_range_improved('a', 0, -100, 500) == None\n",
    "assert probability_range_improved(-100, 300, 100, 500) == None\n",
    "assert probability_range_improved(105, 700, 100, 500) == None\n",
    "assert \"{0:.2f}\".format(probability_range_improved(25, 700, 5, 800)) == '0.85'\n",
    "assert \"{0:.2f}\".format(probability_range_improved(700, 25, 5, 800)) == '0.85'"
   ]
  },
  {
   "cell_type": "code",
   "execution_count": 8,
   "metadata": {
    "collapsed": false
   },
   "outputs": [
    {
     "name": "stdout",
     "output_type": "stream",
     "text": [
      "Populating the interactive namespace from numpy and matplotlib\n"
     ]
    },
    {
     "data": {
      "image/png": "[encoded data removed]",
      "text/plain": [
       "<matplotlib.figure.Figure at 0x29450cd6fd0>"
      ]
     },
     "metadata": {},
     "output_type": "display_data"
    }
   ],
   "source": [
    "import matplotlib.pyplot as plt\n",
    "import matplotlib.ticker as plticker\n",
    "import numpy as np\n",
    "%pylab inline\n",
    "\n",
    "def plot_uniform(x_minimum, x_maximum, tick_interval):\n",
    "        \n",
    "    # TODO: Using x_maximum and x_minimum, calculate the height of the\n",
    "    # rectangle that represents the uniform probability distribution\n",
    "    # Recall that the rectangle area should be 1 for a uniform continuous\n",
    "    # distribution \n",
    "    x = range(x_minimum, x_maximum + 1)\n",
    "    y = 1/(x_maximum - x_minimum)\n",
    "    \n",
    "    plt.bar(x_minimum, y, bottom=0, width= (x_maximum - x_minimum), align='edge', alpha=0.5)\n",
    "    plt.xlabel('Degrees')\n",
    "    plt.ylabel('Probability Distribution')\n",
    "    plt.title('Uniform Probability Distribution \\n for a Spinning Bottle')\n",
    "    plt.xticks(np.arange(min(x), max(x)+1, .25*x_maximum//tick_interval))\n",
    "    plt.show()\n",
    "    \n",
    "plot_uniform(0, 360, 1)"
   ]
  },
  {
   "cell_type": "markdown",
   "metadata": {},
   "source": [
    "# Visualizing a discrete distribution\n",
    "\n",
    "Here is an example input and output:\n",
    "- a vehicle accident is 5 times more likely from 5am to 10am versus midnight to 5am. \n",
    "- a vehicle accident is 3 times more likely from 10am to 4pm versus midnight to 5am.\n",
    "- a vehicle accident is 6 times more likely from 4pm to 9pm versus midnight to 5am.\n",
    "- a vehicle accident is 1/2 as likely from 9pm to midnight versus midnight to 5am.\n",
    "\n",
    "The probability of getting in an accident on any given day is .05\n",
    "\n",
    "The inputs would look like this.  For the hours, you can use 24 hour time:\n",
    "\n",
    "hour_intervals = [0, 5, 10, 16, 21, 24]\n",
    "\n",
    "relative_probabilities = [1, 5, 3, 6, 0.5]\n",
    "\n",
    "total_probability = 0.05"
   ]
  },
  {
   "cell_type": "code",
   "execution_count": 26,
   "metadata": {
    "collapsed": true
   },
   "outputs": [],
   "source": [
    "import matplotlib.pyplot as plt\n",
    "import numpy as np\n",
    "\n",
    "def bar_heights(intervals, probabilities, total_probability):\n",
    "\n",
    "    heights = []\n",
    "    \n",
    "    #TODO: sum the relative probabilities\n",
    "    total_relative_prob = sum(probabilities)\n",
    "    \n",
    "    for i in range(0, len(probabilities)):\n",
    "        \n",
    "        #TODO: Looping through the probabilities list, \n",
    "        #      take one probability at a time and \n",
    "        #      calculate the area of each bar. Think about how you can \n",
    "        #      calculate the area of a bar knowing the total_probability,\n",
    "        #      relative probability, and the sum of the relative probabilities\n",
    "        bar_area = probabilities[i]/total_relative_prob\n",
    "        \n",
    "        # TODO: Calculate the height of the bar and append the value to the\n",
    "        # heights list.Remember that the area of each bar \n",
    "        # is the width of the bar times the height of the bar\n",
    "        bar_width = (intervals[i+1] - intervals[i])\n",
    "        heights.append(bar_area/bar_width)\n",
    "        \n",
    "    return heights"
   ]
  },
  {
   "cell_type": "code",
   "execution_count": 27,
   "metadata": {
    "collapsed": false
   },
   "outputs": [
    {
     "name": "stdout",
     "output_type": "stream",
     "text": [
      "[0.012903225806451613, 0.06451612903225806, 0.03225806451612903, 0.07741935483870968, 0.01075268817204301]\n"
     ]
    }
   ],
   "source": [
    "# Run to test\n",
    "print(bar_heights([0, 5, 10, 16, 21, 24], [1, 5, 3, 6, 0.5], 0.05))"
   ]
  },
  {
   "cell_type": "markdown",
   "metadata": {},
   "source": [
    "### Visualize Results\n",
    "\n",
    "Once the bar_heights function is working, here is some code to visualize your results."
   ]
  },
  {
   "cell_type": "code",
   "execution_count": 31,
   "metadata": {
    "collapsed": false
   },
   "outputs": [
    {
     "data": {
      "image/png": "[encoded data removed]",
      "text/plain": [
       "<matplotlib.figure.Figure at 0x1bc6775f160>"
      ]
     },
     "metadata": {},
     "output_type": "display_data"
    }
   ],
   "source": [
    "hour_intervals = [0, 5, 10, 16, 21, 24]\n",
    "probability_intervals = [1, 5, 3, 6, 1/2]\n",
    "accident_probability = 0.05\n",
    "\n",
    "heights = bar_heights(hour_intervals, probability_intervals, accident_probability)\n",
    "freqs = np.array(heights)\n",
    "bins = np.array(hour_intervals)\n",
    "widths = bins[1:] - bins[:-1]\n",
    "freqs = freqs.astype(np.float)\n",
    "\n",
    "widths = bins[1:] - bins[:-1]\n",
    "\n",
    "tick_interval = 2\n",
    "plt.bar(bins[:-1], freqs, width=widths, align='edge', edgecolor='black', alpha=0.5)\n",
    "plt.xlabel('Interval')\n",
    "plt.ylabel('Probability Distribution')\n",
    "plt.title('Probability Distribution')\n",
    "plt.xticks(np.arange(min(bins), max(bins)+1, tick_interval))\n",
    "\n",
    "plt.show()"
   ]
  },
  {
   "cell_type": "markdown",
   "metadata": {},
   "source": [
    "Let's say babies are twice as likely to be born in the AM vs. PM.\n",
    "\n",
    "Let *a* be the height of AM, and *b* be the height of PM.\n",
    "\n",
    "b = 1/3 * 1/12 = 1/36\n",
    "a = 2/3 * 1/12 = 1/18"
   ]
  },
  {
   "cell_type": "code",
   "execution_count": 25,
   "metadata": {
    "collapsed": false
   },
   "outputs": [
    {
     "data": {
      "image/png": "[encoded data removed]",
      "text/plain": [
       "<matplotlib.figure.Figure at 0x1bc678aaf60>"
      ]
     },
     "metadata": {},
     "output_type": "display_data"
    }
   ],
   "source": [
    "hour_intervals = [0, 12, 24]\n",
    "probability_intervals = [2,1]\n",
    "accident_probability = 1\n",
    "\n",
    "heights = bar_heights(hour_intervals, probability_intervals, accident_probability)\n",
    "freqs = np.array(heights)\n",
    "bins = np.array(hour_intervals)\n",
    "widths = bins[1:] - bins[:-1]\n",
    "freqs = freqs.astype(np.float)\n",
    "\n",
    "widths = bins[1:] - bins[:-1]\n",
    "\n",
    "tick_interval = 4\n",
    "plt.bar(bins[:-1], freqs, width=widths, align='edge', edgecolor='black', alpha=0.5,)\n",
    "plt.xlabel('Interval')\n",
    "plt.ylabel('Probability Distribution')\n",
    "plt.title('Probability Distribution')\n",
    "plt.xticks(np.arange(min(bins), max(bins)+1, tick_interval))\n",
    "\n",
    "plt.show()"
   ]
  },
  {
   "cell_type": "markdown",
   "metadata": {},
   "source": [
    "Notice that the first  bar has exactly twice the area of the 2nd bar."
   ]
  },
  {
   "cell_type": "code",
   "execution_count": 24,
   "metadata": {
    "collapsed": false
   },
   "outputs": [
    {
     "data": {
      "text/plain": [
       "(0.05555555555555555, 0.027777777777777776)"
      ]
     },
     "execution_count": 24,
     "metadata": {},
     "output_type": "execute_result"
    }
   ],
   "source": [
    "1/18, 1/36"
   ]
  },
  {
   "cell_type": "code",
   "execution_count": 42,
   "metadata": {
    "collapsed": false
   },
   "outputs": [
    {
     "data": {
      "text/plain": [
       "[-1.2,\n",
       " 1.0,\n",
       " -0.29999999999999999,\n",
       " 1.3999999999999999,\n",
       " 1.0,\n",
       " -1.2,\n",
       " -0.29999999999999999,\n",
       " -0.80000000000000004,\n",
       " 1.3999999999999999,\n",
       " -0.80000000000000004]"
      ]
     },
     "execution_count": 42,
     "metadata": {},
     "output_type": "execute_result"
    }
   ],
   "source": [
    "import scipy.stats as st\n",
    "\n",
    "grades = st.zscore([1,6,3,7,6,1,3,2,7,2])\n",
    "\n",
    "grades = [round(i,1) for i in grades]\n",
    "grades"
   ]
  },
  {
   "cell_type": "markdown",
   "metadata": {},
   "source": [
    "# Determining location of a robot\n",
    "\n",
    "Less about probability, more about object-oriented programming."
   ]
  },
  {
   "cell_type": "code",
   "execution_count": 34,
   "metadata": {
    "collapsed": true
   },
   "outputs": [],
   "source": [
    "import matplotlib.pyplot as plt\n",
    "from pandas import DataFrame\n",
    "import numpy as np\n",
    "\n",
    "class SelfDrivingCar():\n",
    "    def __init__(self, rows, columns):\n",
    "        \n",
    "        # initializes a map as a list\n",
    "        self.grid = []\n",
    "\n",
    "        ### TODO:\n",
    "        # initialize variables\n",
    "        # self.grid_size is a list containing the number of rows\n",
    "        # and number of columns in the grid like [10,3]. Use the rows and \n",
    "        # columns input variables to define self.grid_size\n",
    "        self.grid_size = [rows, columns]\n",
    "        \n",
    "        ### TODO: \n",
    "        # store the total number of elements in the grid. The number\n",
    "        # of elements would be the rows * columns\n",
    "        self.num_elements = rows * columns\n",
    "        \n",
    "    ### TODO:\n",
    "    # write the function that initializes the grid. Remember that\n",
    "    # when the robot turns on, it has no idea where it is. So if there\n",
    "    # are 25 points on the grid, the initial probability of each point\n",
    "    # is 1/25.\n",
    "    # You will create a 2-D map using a python list. This can be\n",
    "    # a bit tricky, and you might have to search online for how to\n",
    "    # program a 2-D list in python. A 2-D list will need a for loop\n",
    "    # within a for loop\n",
    "    \n",
    "    def initialize_grid(self):\n",
    "        \n",
    "        ### TODO: \n",
    "        # calculate the probability of being at any element on the grid\n",
    "        # you can use the self.num_elements variable you defined in the\n",
    "        # __init__ function\n",
    "        probability = 1/self.num_elements\n",
    "        \n",
    "        ### TODO:\n",
    "        # write a for loop to fill out the 2-D map with the value in the\n",
    "        # probability variable. For example, if the map has 25 points,\n",
    "        # the map should be initialized to map[0,0] = 0.04 \n",
    "        # map[0,1] = 0.04\n",
    "        # map[0, 2] = 0.04\n",
    "        # etc.\n",
    "        # python''s list.append() functionality might be helpful\n",
    "        ### \n",
    "        self.grid = np.zeros(self.grid_size)\n",
    "        self.grid.fill(probability)\n",
    "        \n",
    "        return self.grid\n",
    "    \n",
    "    def output_probability(self, grid_point):\n",
    "        \n",
    "        ### TODO:\n",
    "        # Given a point on the grid, such as [0,4] return the\n",
    "        # current probability at that point.\n",
    "        # You will need to use the self.map variable and combine it\n",
    "        # with the grid_point and then return the probability\n",
    "        return self.grid[grid_point[0], grid_point[1]]\n",
    "    \n",
    "    def update_probability(self, update_list):\n",
    "        \n",
    "        #### TODO:\n",
    "        # Given a list of grid_points and new probabilities, \n",
    "        # update the probabilities of the grid points.\n",
    "        # Here is an example input to this function\n",
    "        # [[3,4,.01], [4,5,.02], [0, 1, .02]]\n",
    "        # This means first update grid point (3,4) to have probability 0.01\n",
    "        # Then update grid point (4,5) to have probability 0.02\n",
    "        # Finally update grid point (0, 1) to have probability 0.02.\n",
    "        # Your function will be updating the elements in the self.map variable\n",
    "        for row, col, val in update_list:\n",
    "            self.grid[row, col] = val\n",
    "        \n",
    "        return self.grid\n",
    "            \n",
    "    def visualize_probability(self):\n",
    "        # this function is given so that you can visualize the results.\n",
    "        # There is no need to change anything.\n",
    "\n",
    "        # this line of code ensures TEST RUN button does not produce an error\n",
    "        # if self.grid is empty.\n",
    "        try:\n",
    "            plt.imshow(self.grid, cmap='Greys', clim=(0,.1))\n",
    "            plt.title('Heat Map of Grid Probabilities')\n",
    "            plt.xlabel('grid x axis')\n",
    "            plt.ylabel('grid y axis')\n",
    "            plt.show()\n",
    "        except:\n",
    "            plt.imshow([0,0], cmap='Greys', clim=(0,.1))\n",
    "            plt.title('Heat Map of Grid Probabilities')\n",
    "            plt.xlabel('grid x axis')\n",
    "            plt.ylabel('grid y axis')\n",
    "            plt.show()"
   ]
  },
  {
   "cell_type": "code",
   "execution_count": 35,
   "metadata": {
    "collapsed": false
   },
   "outputs": [
    {
     "name": "stdout",
     "output_type": "stream",
     "text": [
      "0.05\n",
      "0.05\n",
      "0.2\n",
      "0.1\n"
     ]
    },
    {
     "data": {
      "image/png": "[encoded data removed]",
      "text/plain": [
       "<matplotlib.figure.Figure at 0x1bc68502b38>"
      ]
     },
     "metadata": {},
     "output_type": "display_data"
    }
   ],
   "source": [
    "car = SelfDrivingCar(5,4)\n",
    "\n",
    "car.initialize_grid()\n",
    "\n",
    "# should output 0.05\n",
    "print(car.output_probability([2,3]))\n",
    "\n",
    "# should output 0.05\n",
    "print(car.output_probability([1,2]))\n",
    "\n",
    "car.update_probability([[2,3,.2], [1,2,.1]])\n",
    "\n",
    "# # should output 0.2\n",
    "print(car.output_probability([2,3]))\n",
    "\n",
    "# # should output 0.1\n",
    "print(car.output_probability([1,2]))\n",
    "\n",
    "# # should output a heat map\n",
    "car.visualize_probability()"
   ]
  },
  {
   "cell_type": "code",
   "execution_count": 18,
   "metadata": {
    "collapsed": false
   },
   "outputs": [
    {
     "name": "stdout",
     "output_type": "stream",
     "text": [
      "[0.1111111111111111, 0.3333333333333332, 0.3333333333333332, 0.1111111111111111, 0.1111111111111111]\n"
     ]
    }
   ],
   "source": [
    "#Modify the code below so that the function sense, which \n",
    "#takes p and Z as inputs, will output the NON-normalized \n",
    "#probability distribution, q, after multiplying the entries \n",
    "#in p by pHit or pMiss according to the color in the \n",
    "#corresponding cell in world.\n",
    "\n",
    "\n",
    "p=[0.2, 0.2, 0.2, 0.2, 0.2]\n",
    "world=['green', 'red', 'red', 'green', 'green']\n",
    "Z = 'red'\n",
    "pHit = 0.6\n",
    "pMiss = 0.2\n",
    "\n",
    "def sense(p, Z):\n",
    "    #\n",
    "    #ADD YOUR CODE HERE\n",
    "    q=[]\n",
    "    for i, col in enumerate(world):\n",
    "        if col == Z:\n",
    "            q.append(p[i]*pHit)\n",
    "        else:\n",
    "            q.append(p[i]*pMiss)\n",
    "    \n",
    "    total_prob = sum(q)\n",
    "    q = [float(i)/total_prob for i in q]\n",
    "    return q\n",
    "\n",
    "print (sense(p,Z))"
   ]
  },
  {
   "cell_type": "code",
   "execution_count": 24,
   "metadata": {
    "collapsed": false
   },
   "outputs": [
    {
     "name": "stdout",
     "output_type": "stream",
     "text": [
      "[0.04761904761904763, 0.4285714285714285, 0.4285714285714285, 0.04761904761904763, 0.04761904761904763]\n"
     ]
    }
   ],
   "source": [
    "#Modify the code below so that the function sense, which \n",
    "#takes p and Z as inputs, will output the NON-normalized \n",
    "#probability distribution, q, after multiplying the entries \n",
    "#in p by pHit or pMiss according to the color in the \n",
    "#corresponding cell in world.\n",
    "\n",
    "\n",
    "p=[0.2, 0.2, 0.2, 0.2, 0.2]\n",
    "world=['green', 'red', 'red', 'green', 'green']\n",
    "Z = ['red', 'green', 'red', 'red']\n",
    "pHit = 0.6\n",
    "pMiss = 0.2\n",
    "\n",
    "def sense(p, Z):\n",
    "    #\n",
    "    #ADD YOUR CODE HERE\n",
    "    \n",
    "    for obs in Z:\n",
    "        q=[]\n",
    "        for i, col in enumerate(world):\n",
    "            if col == obs:\n",
    "                q.append(p[i]*pHit)\n",
    "            else:\n",
    "                q.append(p[i]*pMiss)\n",
    "\n",
    "        total_prob = sum(q)\n",
    "        p = [float(i)/total_prob for i in q]\n",
    "    return p\n",
    "\n",
    "print (sense(p,Z))"
   ]
  },
  {
   "cell_type": "code",
   "execution_count": 71,
   "metadata": {
    "collapsed": false
   },
   "outputs": [
    {
     "data": {
      "text/plain": [
       "[0, 0, 1, 1, 0, 0, 1]"
      ]
     },
     "execution_count": 71,
     "metadata": {},
     "output_type": "execute_result"
    }
   ],
   "source": [
    "p = [0,1,1,0,0,1,0]\n",
    "\n",
    "def move(a, units):\n",
    "    if units > len(a):\n",
    "        units = units % len(a)\n",
    "    q = a[-units:] + a[:-units]\n",
    "    return q\n",
    "\n",
    "move(p, 1)"
   ]
  },
  {
   "cell_type": "code",
   "execution_count": 89,
   "metadata": {
    "collapsed": false
   },
   "outputs": [
    {
     "data": {
      "text/plain": [
       "[0.40000000000000002,\n",
       " 0.050000000000000003,\n",
       " 0.050000000000000003,\n",
       " 0.40000000000000002,\n",
       " 0.10000000000000001]"
      ]
     },
     "execution_count": 89,
     "metadata": {},
     "output_type": "execute_result"
    }
   ],
   "source": [
    "location = np.array([0, .5, 0, .5, 0])\n",
    "\n",
    "# Robot has a .8 probability of moving right 2,\n",
    "# .1 probably of moving 1, and \n",
    "# .1 of moving 3\n",
    "\n",
    "possibility_1 = np.array([0,   0, .1, .8, .1])\n",
    "possibility_2 = np.array([.8, .1,  0,  0, .1])\n",
    "\n",
    "raw = possibility_1 + possibility_2\n",
    "norm = [float(i)/sum(raw) for i in raw]\n",
    "\n",
    "norm"
   ]
  },
  {
   "cell_type": "code",
   "execution_count": 120,
   "metadata": {
    "collapsed": false
   },
   "outputs": [],
   "source": [
    "location = np.array([0, .5, 0, .5, 0])\n",
    "\n",
    "newlocs = np.zeros_like(location)\n",
    "for i in range(len(location[:-3])):\n",
    "    newlocs[i+1] += location[i]*.1\n",
    "    newlocs[i+2] += location[i]*.8\n",
    "    newlocs[i+3] += location[i]*.1\n",
    "for i in range(-3,0,1):\n",
    "    newlocs[i+1] += location[i]*.1\n",
    "    newlocs[i+2] += location[i]*.8\n",
    "    newlocs[i+3] += location[i]*.1"
   ]
  },
  {
   "cell_type": "code",
   "execution_count": 124,
   "metadata": {
    "collapsed": false
   },
   "outputs": [
    {
     "data": {
      "text/plain": [
       "array([ 0.005,  0.13 ,  0.73 ,  0.13 ,  0.005])"
      ]
     },
     "execution_count": 124,
     "metadata": {},
     "output_type": "execute_result"
    }
   ],
   "source": [
    "location = np.array([.9, .05, 0,0,.05])\n",
    "\n",
    "newlocs = np.zeros_like(location)\n",
    "for i in range(len(location[:-3])):\n",
    "    newlocs[i+1] += location[i]*.1\n",
    "    newlocs[i+2] += location[i]*.8\n",
    "    newlocs[i+3] += location[i]*.1\n",
    "for i in range(-3,0,1):\n",
    "    newlocs[i+1] += location[i]*.1\n",
    "    newlocs[i+2] += location[i]*.8\n",
    "    newlocs[i+3] += location[i]*.1\n",
    "    \n",
    "newlocs"
   ]
  },
  {
   "cell_type": "code",
   "execution_count": 337,
   "metadata": {
    "collapsed": false
   },
   "outputs": [
    {
     "name": "stdout",
     "output_type": "stream",
     "text": [
      "1.0\n"
     ]
    }
   ],
   "source": [
    "# A little bugged -- doesn't like values of 1.0\n",
    "\n",
    "location = np.array([1.,0,0,0,0,0])\n",
    "print(location.sum())\n",
    "\n",
    "def mover(location=location, distance=2, accuracy=.8):\n",
    "    newlocs = np.zeros_like(location)\n",
    "    miss = (1-accuracy)/2\n",
    "    \n",
    "    if distance >= len(location):\n",
    "        distance = distance % len(location)\n",
    "    \n",
    "    for i in range(len(location[:-(distance+1)])):\n",
    "        newlocs[i + (distance-1)] += location[i] * miss\n",
    "        newlocs[i +  distance]    += location[i] * accuracy\n",
    "        newlocs[i + (distance+1)] += location[i] * miss\n",
    "    \n",
    "    for i in range(-(distance+1), 0, 1):\n",
    "        newlocs[i + (distance-1)] += location[i] * miss\n",
    "        newlocs[i +  distance]    += location[i] * accuracy\n",
    "        newlocs[i + (distance+1)] += location[i] * miss\n",
    "    \n",
    "    # Making sure it adds up to 1\n",
    "    newlocs = [i/sum(newlocs) for i in newlocs]\n",
    "    \n",
    "    return newlocs"
   ]
  },
  {
   "cell_type": "code",
   "execution_count": 340,
   "metadata": {
    "collapsed": false
   },
   "outputs": [
    {
     "data": {
      "text/plain": [
       "[0.24531399203286006,\n",
       " 0.20353367536336006,\n",
       " 0.12753891439380999,\n",
       " 0.09254082845279997,\n",
       " 0.12753891439380996,\n",
       " 0.20353367536336001]"
      ]
     },
     "execution_count": 340,
     "metadata": {},
     "output_type": "execute_result"
    }
   ],
   "source": [
    "for i in range(10):\n",
    "    location = mover(location, distance=3, accuracy=.8)\n",
    "\n",
    "location"
   ]
  },
  {
   "cell_type": "code",
   "execution_count": 327,
   "metadata": {
    "collapsed": false
   },
   "outputs": [
    {
     "data": {
      "text/plain": [
       "1.333074293476779"
      ]
     },
     "execution_count": 327,
     "metadata": {},
     "output_type": "execute_result"
    }
   ],
   "source": [
    "loc = [.5, .1, .2, .05, .15]\n",
    "\n",
    "entropy = 0\n",
    "\n",
    "for i in loc:\n",
    "    entropy += i * np.log(i)\n",
    "    \n",
    "-entropy"
   ]
  },
  {
   "cell_type": "code",
   "execution_count": 316,
   "metadata": {
    "collapsed": false
   },
   "outputs": [
    {
     "data": {
      "text/plain": [
       "0.27752801040644515"
      ]
     },
     "execution_count": 316,
     "metadata": {},
     "output_type": "execute_result"
    }
   ],
   "source": [
    "loc = [.8,0.1,0.1]\n",
    "\n",
    "entropy = 0\n",
    "\n",
    "for i in loc:\n",
    "    try:\n",
    "        entropy += -i * np.log10(i)\n",
    "    except:\n",
    "        entropy += 0\n",
    "    \n",
    "entropy"
   ]
  },
  {
   "cell_type": "code",
   "execution_count": null,
   "metadata": {
    "collapsed": true
   },
   "outputs": [],
   "source": [
    "#Given the list motions=[1,1] which means the robot \n",
    "#moves right and then right again, compute the posterior \n",
    "#distribution if the robot first senses red, then moves \n",
    "#right one, then senses green, then moves right again, \n",
    "#starting with a uniform prior distribution.\n",
    "\n",
    "p=[0.2, 0.2, 0.2, 0.2, 0.2]\n",
    "color_world = np.array(['green', 'red', 'red', 'green', 'green'])\n",
    "measurements = ['red', 'green']\n",
    "motions = [1,1]\n",
    "pHit = 0.6\n",
    "pMiss = 0.2\n",
    "pExact = 0.8\n",
    "pOvershoot = 0.1\n",
    "pUndershoot = 0.1\n",
    "\n",
    "def sense(world, Z):\n",
    "    q=[]\n",
    "    for i in range(len(world)):\n",
    "        hit = (Z == color_world[i])\n",
    "        q.append(world[i] * (hit * pHit + (1-hit) * pMiss))\n",
    "    \n",
    "    q = [i/sum(q) for i in q]\n",
    "\n",
    "    return q\n",
    "\n",
    "def move(world, units):\n",
    "    q = []\n",
    "    for i in range(len(p)):\n",
    "        s = pExact * world[(i-units) % len(world)]\n",
    "        s = s + pOvershoot  * world[(i-units-1) % len(world)]\n",
    "        s = s + pUndershoot * world[(i-units+1) % len(world)]\n",
    "        q.append(s)\n",
    "    return q\n",
    "#\n",
    "# ADD CODE HERE\n",
    "#\n",
    "print (p)        \n"
   ]
  },
  {
   "cell_type": "code",
   "execution_count": 345,
   "metadata": {
    "collapsed": false
   },
   "outputs": [
    {
     "ename": "TypeError",
     "evalue": "can't multiply sequence by non-int of type 'float'",
     "output_type": "error",
     "traceback": [
      "\u001b[0;31m---------------------------------------------------------------------------\u001b[0m",
      "\u001b[0;31mTypeError\u001b[0m                                 Traceback (most recent call last)",
      "\u001b[0;32m<ipython-input-345-b6d35d4dd9ee>\u001b[0m in \u001b[0;36m<module>\u001b[0;34m()\u001b[0m\n\u001b[1;32m     21\u001b[0m \u001b[1;31m# sense(color_world, 'red')\u001b[0m\u001b[1;33m\u001b[0m\u001b[1;33m\u001b[0m\u001b[0m\n\u001b[1;32m     22\u001b[0m \u001b[0mhit\u001b[0m \u001b[1;33m=\u001b[0m \u001b[1;33m(\u001b[0m\u001b[1;34m'red'\u001b[0m \u001b[1;33m==\u001b[0m \u001b[0mcolor_world\u001b[0m\u001b[1;33m[\u001b[0m\u001b[1;36m1\u001b[0m\u001b[1;33m]\u001b[0m\u001b[1;33m)\u001b[0m\u001b[1;33m\u001b[0m\u001b[0m\n\u001b[0;32m---> 23\u001b[0;31m \u001b[0mcolor_world\u001b[0m\u001b[1;33m[\u001b[0m\u001b[1;36m1\u001b[0m\u001b[1;33m]\u001b[0m \u001b[1;33m*\u001b[0m \u001b[1;33m(\u001b[0m\u001b[0mhit\u001b[0m \u001b[1;33m*\u001b[0m \u001b[0mpHit\u001b[0m \u001b[1;33m+\u001b[0m \u001b[1;33m(\u001b[0m\u001b[1;36m1\u001b[0m\u001b[1;33m-\u001b[0m\u001b[0mhit\u001b[0m\u001b[1;33m)\u001b[0m \u001b[1;33m*\u001b[0m \u001b[0mpMiss\u001b[0m\u001b[1;33m)\u001b[0m\u001b[1;33m\u001b[0m\u001b[0m\n\u001b[0m",
      "\u001b[0;31mTypeError\u001b[0m: can't multiply sequence by non-int of type 'float'"
     ]
    }
   ],
   "source": [
    "p=[0.2, 0.2, 0.2, 0.2, 0.2]\n",
    "color_world = ['green', 'red', 'red', 'green', 'green']\n",
    "measurements = ['red', 'green']\n",
    "motions = [1,1]\n",
    "pHit = 0.6\n",
    "pMiss = 0.2\n",
    "pExact = 0.8\n",
    "pOvershoot = 0.1\n",
    "pUndershoot = 0.1\n",
    "\n",
    "def sense(world, Z):\n",
    "    q=[]\n",
    "    for i in range(len(world)):\n",
    "        hit = (Z == color_world[i])\n",
    "        q.append(world[i] * (hit * pHit + (1-hit) * pMiss))\n",
    "    \n",
    "    q = [i/sum(q) for i in q]\n",
    "\n",
    "    return q\n",
    "\n",
    "# sense(color_world, 'red')\n",
    "hit = ('red' == color_world[i])\n",
    "color_world[1] * (hit * pHit + (1-hit) * pMiss)"
   ]
  },
  {
   "cell_type": "code",
   "execution_count": 354,
   "metadata": {
    "collapsed": false
   },
   "outputs": [
    {
     "data": {
      "text/plain": [
       "[0.02325581395348838,\n",
       " 0.46511627906976755,\n",
       " 0.46511627906976755,\n",
       " 0.02325581395348838,\n",
       " 0.02325581395348838]"
      ]
     },
     "execution_count": 354,
     "metadata": {},
     "output_type": "execute_result"
    }
   ],
   "source": [
    "prior = [0.2] * 5\n",
    "colors = 'red green green red red'.split()\n",
    "\n",
    "sensed = 'green'\n",
    "scalar = 20\n",
    "\n",
    "for i in range(len(colors)):\n",
    "    if colors[i] == sensed:\n",
    "        prior[i] = prior[i] * scalar\n",
    "\n",
    "prior = [i/sum(prior) for i in prior]\n",
    "\n",
    "prior"
   ]
  },
  {
   "cell_type": "code",
   "execution_count": 423,
   "metadata": {
    "collapsed": false
   },
   "outputs": [
    {
     "name": "stdout",
     "output_type": "stream",
     "text": [
      "Populating the interactive namespace from numpy and matplotlib\n"
     ]
    }
   ],
   "source": [
    "import pandas as pd\n",
    "%pylab inline"
   ]
  },
  {
   "cell_type": "code",
   "execution_count": 434,
   "metadata": {
    "collapsed": false
   },
   "outputs": [],
   "source": [
    "from random import choice\n",
    "# colors_orig = 'red green green red red green green red red green red green green red'.split()\n",
    "colors_orig = []\n",
    "for i in range(100):\n",
    "    colors_orig.append(choice(['green', 'red']))\n",
    "\n",
    "prior = [1/len(colors_orig)] * len(colors_orig)\n",
    "\n",
    "sensed = 'green green green green'.split()\n",
    "\n",
    "colors = colors_orig + colors_orig[:len(sensed)-1]\n",
    "scalar = 10\n",
    "\n",
    "for i in range(0, len(colors_orig), len(sensed)):\n",
    "    if colors[i:i+len(sensed)] == sensed:\n",
    "        prior[i] *= scalar\n",
    "\n",
    "prior = [i/sum(prior) for i in prior]"
   ]
  },
  {
   "cell_type": "code",
   "execution_count": 435,
   "metadata": {
    "collapsed": false
   },
   "outputs": [
    {
     "data": {
      "text/plain": [
       "([<matplotlib.axis.XTick at 0x250b7d3c278>],\n",
       " <a list of 1 Text xticklabel objects>)"
      ]
     },
     "execution_count": 435,
     "metadata": {},
     "output_type": "execute_result"
    },
    {
     "data": {
      "image/png": "[encoded data removed]",
      "text/plain": [
       "<matplotlib.figure.Figure at 0x250b7ee2f98>"
      ]
     },
     "metadata": {},
     "output_type": "display_data"
    }
   ],
   "source": [
    "pd.Series(prior).plot.bar(figsize=(10,5))\n",
    "plt.xticks([0])"
   ]
  },
  {
   "cell_type": "code",
   "execution_count": 442,
   "metadata": {
    "collapsed": false
   },
   "outputs": [
    {
     "name": "stdout",
     "output_type": "stream",
     "text": [
      "[0.04000000000000001, 0.12, 0.12, 0.04000000000000001, 0.04000000000000001]\n"
     ]
    }
   ],
   "source": [
    "p=[0.2, 0.2, 0.2, 0.2, 0.2]\n",
    "color_world = ['green', 'red', 'red', 'green', 'green']\n",
    "Z = 'red'\n",
    "motions = [1,1]\n",
    "pHit = 0.6\n",
    "pMiss = 0.2\n",
    "pExact = 0.8\n",
    "pOvershoot = 0.1\n",
    "pUndershoot = 0.1\n",
    "\n",
    "def sense(p, Z):\n",
    "    #\n",
    "    #ADD YOUR CODE HERE\n",
    "    q=[]\n",
    "    for i, col in enumerate(color_world):\n",
    "        if col == Z:\n",
    "            q.append(p[i]*pHit)\n",
    "        else:\n",
    "            q.append(p[i]*pMiss)\n",
    "    return q\n",
    "\n",
    "print (sense(p,Z))"
   ]
  },
  {
   "cell_type": "code",
   "execution_count": 463,
   "metadata": {
    "collapsed": false
   },
   "outputs": [
    {
     "name": "stdout",
     "output_type": "stream",
     "text": [
      "[0.2, 0.2, 0.2, 0.2, 0.2]\n",
      "senses red\n",
      "[0.1111111111111111, 0.3333333333333332, 0.3333333333333332, 0.1111111111111111, 0.1111111111111111]\n",
      "moves 1\n",
      "[0.11111111111111115, 0.13333333333333336, 0.31111111111111112, 0.31111111111111112, 0.13333333333333336]\n",
      "senses red\n",
      "[0.058823529411764719, 0.21176470588235297, 0.49411764705882349, 0.16470588235294117, 0.070588235294117646]\n",
      "moves 1\n",
      "[0.078823529411764709, 0.075294117647058845, 0.2247058823529412, 0.43294117647058822, 0.18823529411764703]\n",
      "senses green\n",
      "[0.098529411764705893, 0.031372549019607857, 0.093627450980392171, 0.54117647058823526, 0.23529411764705879]\n",
      "moves 0\n",
      "senses green\n",
      "[0.10549019607843138, 0.04431372549019609, 0.13215686274509805, 0.46583333333333327, 0.25220588235294117]\n"
     ]
    }
   ],
   "source": [
    "#Modify the previous code so that the robot senses red twice.\n",
    "\n",
    "\n",
    "\n",
    "pHit = 0.6\n",
    "pMiss = 0.2\n",
    "pExact = 0.8\n",
    "pOvershoot = 0.1\n",
    "pUndershoot = 0.1\n",
    "\n",
    "def sense(p, Z):\n",
    "    q=[]\n",
    "    for i in range(len(p)):\n",
    "        hit = (Z == world[i])\n",
    "        q.append(p[i] * (hit * pHit + (1-hit) * pMiss))\n",
    "    for i, color in enumerate(world):\n",
    "        if color == Z:\n",
    "            q.append(p[i] * pHit)\n",
    "        else:\n",
    "            q.append(p[i] * pMiss)\n",
    "    q = [i/sum(q) for i in q]\n",
    "    \n",
    "    return q\n",
    "\n",
    "# def move(p, units):\n",
    "#     q = []\n",
    "#     for i in range(len(p)):\n",
    "#         s = pExact * p[(i-units) % len(p)]\n",
    "#         s = s + pOvershoot * p[(i-units-1) % len(p)]\n",
    "#         s = s + pUndershoot * p[(i-units+1) % len(p)]\n",
    "#         q.append(s)\n",
    "#     return q\n",
    "\n",
    "def move(location=location, distance=2, accuracy=.8):\n",
    "    newlocs = np.zeros_like(location)\n",
    "    miss = (1-accuracy)/2\n",
    "    \n",
    "    if distance >= len(location):\n",
    "        distance = distance % len(location)\n",
    "    \n",
    "    for i in range(len(location[:-(distance+1)])):\n",
    "        newlocs[i + (distance-1)] += location[i] * miss\n",
    "        newlocs[i +  distance   ] += location[i] * accuracy\n",
    "        newlocs[i + (distance+1)] += location[i] * miss\n",
    "    \n",
    "    for i in range(-(distance+1), 0, 1):\n",
    "        newlocs[i + (distance-1)] += location[i] * miss\n",
    "        newlocs[i +  distance   ] += location[i] * accuracy\n",
    "        newlocs[i + (distance+1)] += location[i] * miss\n",
    "    \n",
    "    # Making sure it adds up to 1\n",
    "    newlocs = [i/sum(newlocs) for i in newlocs]\n",
    "    \n",
    "    return newlocs\n",
    "\n",
    "\n",
    "p = [0.2, 0.2, 0.2, 0.2, 0.2]\n",
    "measurements = ['red', 'red', 'green']\n",
    "motions = [1,1,0]\n",
    "world = ['green', 'red', 'red', 'green', 'green']\n",
    "\n",
    "for i in range(len(measurements)):\n",
    "    print(p)\n",
    "    print('senses', measurements[i])\n",
    "    p = sense(p, measurements[i])\n",
    "    print(p)\n",
    "    print('moves', str(motions[i]))\n",
    "    p = move(p, distance=motions[i])\n",
    "\n",
    "print('senses green')\n",
    "print(p)"
   ]
  },
  {
   "cell_type": "code",
   "execution_count": 497,
   "metadata": {
    "collapsed": false
   },
   "outputs": [],
   "source": [
    "coin = ['heads', 'tails']\n",
    "allresults = []\n",
    "for i in range(10000):\n",
    "    result = []\n",
    "    flip = choice(coin)\n",
    "    if flip == 'tails':\n",
    "        result.append('tails')\n",
    "    else:\n",
    "        flip = choice(coin)\n",
    "        if flip == 'tails':\n",
    "            result.append('heads_tails')\n",
    "        else:\n",
    "            result.append('heads_heads')\n",
    "    allresults.append(result)"
   ]
  },
  {
   "cell_type": "code",
   "execution_count": 498,
   "metadata": {
    "collapsed": false
   },
   "outputs": [],
   "source": [
    "allresults = np.ravel(allresults)"
   ]
  },
  {
   "cell_type": "code",
   "execution_count": 499,
   "metadata": {
    "collapsed": false
   },
   "outputs": [
    {
     "data": {
      "text/plain": [
       "tails          5003\n",
       "heads_tails    2519\n",
       "heads_heads    2478\n",
       "dtype: int64"
      ]
     },
     "execution_count": 499,
     "metadata": {},
     "output_type": "execute_result"
    }
   ],
   "source": [
    "pd.Series(allresults).value_counts()"
   ]
  },
  {
   "cell_type": "code",
   "execution_count": 505,
   "metadata": {
    "collapsed": false
   },
   "outputs": [
    {
     "data": {
      "text/plain": [
       "10"
      ]
     },
     "execution_count": 505,
     "metadata": {},
     "output_type": "execute_result"
    }
   ],
   "source": [
    "np.sum(np.array([[1,2],[3,4]]))"
   ]
  },
  {
   "cell_type": "code",
   "execution_count": 531,
   "metadata": {
    "collapsed": true
   },
   "outputs": [],
   "source": [
    "citizens = pd.DataFrame()\n",
    "\n",
    "citizens['openness'] = np.random.normal(loc=50, scale=15, size=10000)\n",
    "citizens['vote_old'] = np.where(citizens['openness'] < 50, 'rep', 'dem')\n",
    "citizens['vote_old'] = np.where(citizens['openness'] > 100 , 'none', citizens['vote_old'])\n",
    "citizens['prob_of_trying'] = citizens['openness'] * .33\n",
    "citizens['roll'] = np.random.uniform(low=1, high=100, size=10000)\n",
    "citizens['tried'] = np.where(citizens['roll'] < citizens['prob_of_trying'], 1, 0)\n",
    "citizens['openness_new'] = citizens['openness'] + (citizens['tried'] * citizens['openness'] * .10)\n",
    "citizens['openness_new'] = np.where (citizens['openness_new'] > 100, 0, citizens['openness_new'])\n",
    "citizens['vote_new'] = np.where(citizens['openness_new'] < 50, 'rep', 'dem')\n",
    "citizens['vote_new'] = np.where(citizens['openness_new'] == 0, 'none', citizens['vote_new'])"
   ]
  },
  {
   "cell_type": "code",
   "execution_count": 532,
   "metadata": {
    "collapsed": false
   },
   "outputs": [
    {
     "data": {
      "text/plain": [
       "dem     0.5043\n",
       "rep     0.4953\n",
       "none    0.0004\n",
       "Name: vote_old, dtype: float64"
      ]
     },
     "execution_count": 532,
     "metadata": {},
     "output_type": "execute_result"
    }
   ],
   "source": [
    "citizens.vote_old.value_counts(normalize=True)"
   ]
  },
  {
   "cell_type": "code",
   "execution_count": 533,
   "metadata": {
    "collapsed": false
   },
   "outputs": [
    {
     "data": {
      "text/plain": [
       "dem     0.5210\n",
       "rep     0.4778\n",
       "none    0.0012\n",
       "Name: vote_new, dtype: float64"
      ]
     },
     "execution_count": 533,
     "metadata": {},
     "output_type": "execute_result"
    }
   ],
   "source": [
    "citizens.vote_new.value_counts(normalize=True)"
   ]
  },
  {
   "cell_type": "code",
   "execution_count": 523,
   "metadata": {
    "collapsed": false
   },
   "outputs": [
    {
     "data": {
      "text/plain": [
       "0.015009999999999565"
      ]
     },
     "execution_count": 523,
     "metadata": {},
     "output_type": "execute_result"
    }
   ],
   "source": [
    "((citizens['openness_new']-citizens['openness'])/citizens['openness']).mean()"
   ]
  },
  {
   "cell_type": "code",
   "execution_count": null,
   "metadata": {
    "collapsed": true
   },
   "outputs": [],
   "source": []
  },
  {
   "cell_type": "markdown",
   "metadata": {},
   "source": [
    "Review:\n",
    "\n",
    "- Measurement/Sensing uses multiplication\n",
    "- Motion uses convolutions\n",
    "\n",
    "- Measurement/Sensing uses Bayes Theorem\n",
    "- Motion uses total probability\n",
    "\n",
    "From last lesson: measurement meant updating our belief (and renormalizing our distribution). Motion meant keeping track of where all of our probability \"went\" when we moved (which meant using the law of Total Probability).\n",
    "\n"
   ]
  },
  {
   "cell_type": "markdown",
   "metadata": {},
   "source": [
    "# Kalman filter & Gaussians"
   ]
  },
  {
   "cell_type": "code",
   "execution_count": 536,
   "metadata": {
    "collapsed": false
   },
   "outputs": [
    {
     "data": {
      "text/plain": [
       "0.0087641502467842702"
      ]
     },
     "execution_count": 536,
     "metadata": {},
     "output_type": "execute_result"
    }
   ],
   "source": [
    "pi = np.pi\n",
    "e = np.e\n",
    "variance = 4\n",
    "x = 8\n",
    "mu = 10\n",
    "\n",
    "a = 1/(np.sqrt(2*pi*variance))\n",
    "b = e**(-0.5 * ((x - mu)**2)/variance)\n",
    "\n",
    "b == np.exp(-.5)\n",
    "\n",
    "def f(mu, variance, x):\n",
    "    return 1/np.sqrt(2*pi*variance) * np.exp((-0.5 * (x-mu)**2) / variance)\n",
    "\n",
    "f(10, 4, 8)"
   ]
  },
  {
   "cell_type": "code",
   "execution_count": 591,
   "metadata": {
    "collapsed": true
   },
   "outputs": [],
   "source": [
    "# Updating parameters\n",
    "\n",
    "mu = 10\n",
    "sigma2 = 8\n",
    "\n",
    "nu = 13\n",
    "r2 = 2\n",
    "\n",
    "def update(mu=mu, sigma2=sigma2, nu=nu, r2=r2):\n",
    "    \n",
    "    prior = np.random.normal(loc=mu, scale=sigma2, size=10000)\n",
    "    measurement = np.random.normal(loc=nu, scale=r2, size=10000)\n",
    "\n",
    "    posterior_mean = ((r2 * mu) + (sigma2 * nu)) / (r2 + sigma2)\n",
    "\n",
    "    posterior_std = 1 / ((1/r2) + (1/sigma2))\n",
    "    \n",
    "    return posterior_mean, posterior_std"
   ]
  },
  {
   "cell_type": "code",
   "execution_count": 592,
   "metadata": {
    "collapsed": false
   },
   "outputs": [
    {
     "data": {
      "text/plain": [
       "(12.4, 1.6)"
      ]
     },
     "execution_count": 592,
     "metadata": {},
     "output_type": "execute_result"
    }
   ],
   "source": [
    "update()"
   ]
  },
  {
   "cell_type": "markdown",
   "metadata": {},
   "source": [
    "# Motion update\n",
    "\n",
    "new position = (mean estimate of current position) + (units moved)\n",
    "\n",
    "New variance = (old variance) + (variance of motion)"
   ]
  },
  {
   "cell_type": "code",
   "execution_count": 593,
   "metadata": {
    "collapsed": false
   },
   "outputs": [
    {
     "name": "stdout",
     "output_type": "stream",
     "text": [
      "29.9828421226 7.06466310848\n"
     ]
    },
    {
     "data": {
      "text/plain": [
       "<matplotlib.axes._subplots.AxesSubplot at 0x250b9de07b8>"
      ]
     },
     "execution_count": 593,
     "metadata": {},
     "output_type": "execute_result"
    },
    {
     "data": {
      "image/png": "[encoded data removed]",
      "text/plain": [
       "<matplotlib.figure.Figure at 0x250b9eab6d8>"
      ]
     },
     "metadata": {},
     "output_type": "display_data"
    }
   ],
   "source": [
    "prior = np.random.normal(loc=20, scale=5, size=10000)\n",
    "movement = np.random.normal(loc=10, scale=2, size=10000)\n",
    "\n",
    "new_position = prior.mean() + movement.mean()\n",
    "new_variance = prior.std() + movement.std()\n",
    "\n",
    "print(new_position, new_variance)\n",
    "\n",
    "sns.distplot(prior)\n",
    "\n",
    "sns.distplot(np.random.normal(new_position, new_variance, size=10000))"
   ]
  },
  {
   "cell_type": "code",
   "execution_count": 24,
   "metadata": {
    "collapsed": false
   },
   "outputs": [],
   "source": [
    "import numpy as np\n",
    "\n",
    "def predict(mean1, var1, mean2, var2):\n",
    "    new_mean = mean1 + mean2\n",
    "    new_var = var1 + var2\n",
    "    return new_mean, new_var"
   ]
  },
  {
   "cell_type": "code",
   "execution_count": 25,
   "metadata": {
    "collapsed": false
   },
   "outputs": [],
   "source": [
    "# Let's see this again\n",
    "\n",
    "def update(mu, sigma2, nu, r2):\n",
    "    '''measure'''\n",
    "    new_mean = ((r2 * mu) + (sigma2 * nu)) / (r2 + sigma2)\n",
    "\n",
    "    new_var = 1 / ((1/r2) + (1/sigma2))\n",
    "    \n",
    "    return new_mean, new_var"
   ]
  },
  {
   "cell_type": "code",
   "execution_count": 37,
   "metadata": {
    "collapsed": true
   },
   "outputs": [],
   "source": [
    "measurements = np.array([5., 6., 7., 9., 10.])\n",
    "measurements_var = 4.\n",
    "\n",
    "motion = np.array([1., 1., 2., 1., 1.])\n",
    "motion_var = 2\n",
    "\n",
    "mu = 0\n",
    "sig = 100"
   ]
  },
  {
   "cell_type": "code",
   "execution_count": 38,
   "metadata": {
    "collapsed": false
   },
   "outputs": [
    {
     "name": "stdout",
     "output_type": "stream",
     "text": [
      "measure: 4.80769230769 3.846153846153846\n",
      "moves then predicts: 5.80769230769 5.846153846153846\n",
      "\n",
      "measure: 5.921875 2.375\n",
      "moves then predicts: 6.921875 4.375\n",
      "\n",
      "measure: 6.96268656716 2.0895522388059704\n",
      "moves then predicts: 8.96268656716 4.08955223880597\n",
      "\n",
      "measure: 8.9815498155 2.022140221402214\n",
      "moves then predicts: 9.9815498155 4.022140221402214\n",
      "\n",
      "measure: 9.99080036799 2.0055197792088317\n",
      "moves then predicts: 10.990800368 4.005519779208832\n",
      "\n"
     ]
    }
   ],
   "source": [
    "for i in range(len(measurements)):\n",
    "    mu, sig = update(mu, sig, measurements[i], measurements_var)\n",
    "    print('measure:', mu, sig)\n",
    "    mu, sig = predict(mu, sig, motion[i], motion_var)\n",
    "    print('moves then predicts:', mu, sig)\n",
    "    print()"
   ]
  },
  {
   "cell_type": "code",
   "execution_count": null,
   "metadata": {
    "collapsed": true
   },
   "outputs": [],
   "source": []
  }
 ],
 "metadata": {
  "anaconda-cloud": {},
  "kernelspec": {
   "display_name": "Python 3",
   "language": "python",
   "name": "python3"
  },
  "language_info": {
   "codemirror_mode": {
    "name": "ipython",
    "version": 3
   },
   "file_extension": ".py",
   "mimetype": "text/x-python",
   "name": "python",
   "nbconvert_exporter": "python",
   "pygments_lexer": "ipython3",
   "version": "3.6.0"
  }
 },
 "nbformat": 4,
 "nbformat_minor": 2
}
