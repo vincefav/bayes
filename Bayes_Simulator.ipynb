{
 "cells": [
  {
   "cell_type": "code",
   "execution_count": 1,
   "metadata": {
    "collapsed": false
   },
   "outputs": [
    {
     "name": "stdout",
     "output_type": "stream",
     "text": [
      "Populating the interactive namespace from numpy and matplotlib\n"
     ]
    }
   ],
   "source": [
    "import numpy as np\n",
    "import pandas as pd\n",
    "\n",
    "import matplotlib.pyplot as plt\n",
    "import seaborn as sns\n",
    "\n",
    "%pylab inline"
   ]
  },
  {
   "cell_type": "markdown",
   "metadata": {},
   "source": [
    "Only 1% of women at age forty who participate in a routine mammography test have breast cancer.\n",
    "\n",
    "80% of women who have breast cancer will get positive mammographies, but 9.6% of women who don’t have breast cancer will also get positive mammographies.\n",
    "\n",
    "A woman of this age had a positive mammography in a routine screening. What is the probability that she actually has breast cancer?"
   ]
  },
  {
   "cell_type": "code",
   "execution_count": 2,
   "metadata": {
    "collapsed": false
   },
   "outputs": [
    {
     "data": {
      "text/plain": [
       "0.07763975155279504"
      ]
     },
     "execution_count": 2,
     "metadata": {},
     "output_type": "execute_result"
    }
   ],
   "source": [
    "prior = .01\n",
    "event = (0.99*0.096) + (0.01*0.8) # positive mammography\n",
    "probability_of_event_given_prior_is_true = .8\n",
    "\n",
    "posterior =\\\n",
    "(probability_of_event_given_prior_is_true * prior)/event\n",
    "\n",
    "posterior"
   ]
  },
  {
   "cell_type": "markdown",
   "metadata": {},
   "source": [
    "A cancer affects 1% of the population.\n",
    "\n",
    "Among people with the cancer, the test comes back positive 90% of the time.\n",
    "\n",
    "Among people without the cancer, the test comes back positive 10% of the time.\n",
    "\n",
    "If you get a positive test, what's the probability you have cancer?"
   ]
  },
  {
   "cell_type": "code",
   "execution_count": 4,
   "metadata": {
    "collapsed": false
   },
   "outputs": [
    {
     "data": {
      "text/plain": [
       "0.08333333333333333"
      ]
     },
     "execution_count": 4,
     "metadata": {},
     "output_type": "execute_result"
    }
   ],
   "source": [
    "prior = .01\n",
    "event = (.01*.9)+(.99*.1)\n",
    "probability_of_event_given_prior_is_true = .9\n",
    "\n",
    "posterior =\\\n",
    "(probability_of_event_given_prior_is_true * prior)/event\n",
    "\n",
    "posterior"
   ]
  },
  {
   "cell_type": "markdown",
   "metadata": {},
   "source": [
    "What about if you get a negative test? What's the probability you're cancer-free?"
   ]
  },
  {
   "cell_type": "code",
   "execution_count": 5,
   "metadata": {
    "collapsed": false
   },
   "outputs": [
    {
     "data": {
      "text/plain": [
       "0.9988789237668162"
      ]
     },
     "execution_count": 5,
     "metadata": {},
     "output_type": "execute_result"
    }
   ],
   "source": [
    "prior = .99\n",
    "event = (0.99*0.90) + (0.01*0.1) # negative test\n",
    "probability_of_event_given_prior_is_true = .9\n",
    "\n",
    "posterior =\\\n",
    "(probability_of_event_given_prior_is_true * prior)/event\n",
    "\n",
    "posterior"
   ]
  },
  {
   "cell_type": "markdown",
   "metadata": {},
   "source": [
    "100 out of 10,000 women at age forty who participate in routine screening have breast cancer. 80 of every 100 women with breast cancer will get a positive mammography. 950 out of 9,900 women without breast cancer will also get a positive mammography. If 10,000 women in this age group undergo a routine screening, about what fraction of these women with positive mammographies will actually have breast cancer?"
   ]
  },
  {
   "cell_type": "code",
   "execution_count": 6,
   "metadata": {
    "collapsed": false
   },
   "outputs": [
    {
     "data": {
      "text/plain": [
       "0.07766990291262135"
      ]
     },
     "execution_count": 6,
     "metadata": {},
     "output_type": "execute_result"
    }
   ],
   "source": [
    "prior = .01\n",
    "event = (0.01 * 80/100) + (0.99 * 950/9900)\n",
    "probability_of_event_given_prior_is_true = .8\n",
    "\n",
    "posterior = (probability_of_event_given_prior_is_true * prior)/event\n",
    "\n",
    "posterior"
   ]
  },
  {
   "cell_type": "markdown",
   "metadata": {},
   "source": [
    "Now, to clean up the formula..."
   ]
  },
  {
   "cell_type": "code",
   "execution_count": 7,
   "metadata": {
    "collapsed": false
   },
   "outputs": [
    {
     "data": {
      "text/plain": [
       "0.07766990291262138"
      ]
     },
     "execution_count": 7,
     "metadata": {},
     "output_type": "execute_result"
    }
   ],
   "source": [
    "prior = .01\n",
    "probability_of_event_given_prior_is_true = 80/100\n",
    "probability_of_event_given_prior_is_NOT_true = 950/9900\n",
    "\n",
    "true_positive = probability_of_event_given_prior_is_true * prior\n",
    "false_positive = probability_of_event_given_prior_is_NOT_true * (1-prior)\n",
    "\n",
    "posterior =\\\n",
    "(true_positive)/\\\n",
    "(true_positive + false_positive)\n",
    "\n",
    "posterior"
   ]
  },
  {
   "cell_type": "markdown",
   "metadata": {},
   "source": [
    "# Pearls\n",
    "\n",
    "Suppose that a barrel contains many small plastic eggs. Some eggs are painted red and some are painted blue. 40% of the eggs in the bin contain pearls, and 60% contain nothing. 30% of eggs containing pearls are painted blue, and 10% of eggs containing nothing are painted blue. What is the probability that a blue egg contains a pearl?"
   ]
  },
  {
   "cell_type": "code",
   "execution_count": 13,
   "metadata": {
    "collapsed": false
   },
   "outputs": [
    {
     "data": {
      "text/plain": [
       "0.6666666666666666"
      ]
     },
     "execution_count": 13,
     "metadata": {},
     "output_type": "execute_result"
    }
   ],
   "source": [
    "# Eggs containing pearls\n",
    "prior = .40\n",
    "\n",
    "# Of those with pearls, which ones are blue?\n",
    "probability_of_event_given_prior_is_true = .3\n",
    "\n",
    "# Of those without pearls, which ones are blue?\n",
    "probability_of_event_given_prior_is_NOT_true = .1\n",
    "\n",
    "true_positive = probability_of_event_given_prior_is_true * prior\n",
    "false_positive = probability_of_event_given_prior_is_NOT_true * (1-prior)\n",
    "\n",
    "posterior =\\\n",
    "(true_positive)/\\\n",
    "(true_positive + false_positive)\n",
    "\n",
    "posterior"
   ]
  },
  {
   "cell_type": "code",
   "execution_count": 8,
   "metadata": {
    "collapsed": false
   },
   "outputs": [
    {
     "data": {
      "text/plain": [
       "1.0"
      ]
     },
     "execution_count": 8,
     "metadata": {},
     "output_type": "execute_result"
    }
   ],
   "source": [
    "p_of_a = .01\n",
    "p_of_b_given_a = 80/100\n",
    "p_of_b_given_NOT_a = 950/9900\n",
    "\n",
    "# Probability of a positive test given you're sick\n",
    "true_positive = p_of_b_given_a * p_of_a\n",
    "\n",
    "# Probability of a positive test given you're NOT sick\n",
    "false_positive = p_of_b_given_NOT_a * (1 - p_of_a)\n",
    "\n",
    "# Probability that you're NOT sick\n",
    "p_of_NOT_a = 1 - p_of_a\n",
    "\n",
    "# Probability of a negative test\n",
    "p_of_NOT_b = 1 - (true_positive + false_positive)\n",
    "\n",
    "# Probability of a negative test given you're NOT sick\n",
    "p_of_NOT_b_given_NOT_a = 1 - p_of_b_given_NOT_a\n",
    "true_negative = p_of_NOT_b_given_NOT_a\n",
    "\n",
    "# Probability of a negative test given you're sick\n",
    "false_negative = 1 - true_negative - true_positive - false_positive\n",
    "p_of_NOT_b_given_a = false_negative\n",
    "# (I solved this one the other way around)\n",
    "\n",
    "# [P(~B|~A) x P(~A)] / P(~B)\n",
    "\n",
    "posterior_pos =\\\n",
    "(true_positive)/\\\n",
    "(true_positive + false_positive)\n",
    "\n",
    "posterior_neg =\\\n",
    "(true_negative)/\\\n",
    "(true_negative + false_negative)\n",
    "\n",
    "false_negative + true_negative + false_positive + true_positive"
   ]
  },
  {
   "cell_type": "markdown",
   "metadata": {},
   "source": [
    "Notice that Bayes' Theorem is just saying \"What's the probability that **A** is true, given all the universes in which **B** happened?\"\n",
    "\n",
    "Let's turn it into a function..."
   ]
  },
  {
   "cell_type": "code",
   "execution_count": 9,
   "metadata": {
    "collapsed": true
   },
   "outputs": [],
   "source": [
    "def bayes(prior, b_given_a, b_given_NOT_a):\n",
    "    prior = prior\n",
    "    probability_of_event_given_prior_is_true = b_given_a\n",
    "    probability_of_event_given_prior_is_NOT_true = b_given_NOT_a\n",
    "\n",
    "    true_positive = probability_of_event_given_prior_is_true * prior\n",
    "    false_positive = probability_of_event_given_prior_is_NOT_true * (1-prior)\n",
    "    \n",
    "    posterior =\\\n",
    "    (true_positive)/\\\n",
    "    (true_positive + false_positive)\n",
    "\n",
    "    return posterior"
   ]
  },
  {
   "cell_type": "code",
   "execution_count": 10,
   "metadata": {
    "collapsed": false
   },
   "outputs": [],
   "source": [
    "def count_bayes(prior, b_given_a, b_given_NOT_a, thresh=0.99):\n",
    "    \n",
    "    progression = [prior]\n",
    "    count = 0\n",
    "    while ((prior < thresh) and (prior > 1 - thresh)) or count == 0:\n",
    "        prior = bayes(prior, b_given_a, b_given_NOT_a)\n",
    "        progression.append(prior)\n",
    "        count += 1\n",
    "\n",
    "    return pd.Series(progression)"
   ]
  },
  {
   "cell_type": "markdown",
   "metadata": {},
   "source": [
    "Bob is 90% sure he's not a scoundrel, but his dating life hasn't been going so well! How many rejections should get get before he changes his opinion and he's 99% sure he IS a scoundrel?\n",
    "\n",
    "Here are the probabilities I assign to the problem. Of course, this is pretty subjective.\n",
    "\n",
    "- Prior: 10%\n",
    "- Rejection rate if he IS a scoundrel: 95%\n",
    "- Rejection rate if he is NOT a scoundrel: 75%"
   ]
  },
  {
   "cell_type": "code",
   "execution_count": 11,
   "metadata": {
    "collapsed": false
   },
   "outputs": [
    {
     "data": {
      "text/plain": [
       "<matplotlib.text.Text at 0x1d1356606a0>"
      ]
     },
     "execution_count": 11,
     "metadata": {},
     "output_type": "execute_result"
    },
    {
     "data": {
      "image/png": "[encoded data removed]",
      "text/plain": [
       "<matplotlib.figure.Figure at 0x1d13565eb00>"
      ]
     },
     "metadata": {},
     "output_type": "display_data"
    }
   ],
   "source": [
    "scoundrel = count_bayes(.10, .95, .75)\n",
    "\n",
    "scoundrel.plot()\n",
    "plt.xlabel('Rejections')\n",
    "plt.ylabel('Scoundrel %')"
   ]
  },
  {
   "cell_type": "markdown",
   "metadata": {},
   "source": [
    "Wow, it would take about 30 rejections for him to be justified in changing his mind!\n",
    "\n",
    "Now let's say Bob meets Alice and they hit it off. But a week later, she doesn't return a text message. Bob doesn't panic, but then she doesn't return a text the next day either.\n",
    "\n",
    "How many ignored texts should Bob send before he \"takes the hint\"?\n",
    "\n",
    "- **Prior that Alice likes Bob: 90%** (They had a great date!)\n",
    "- **Probability of an ignored text if she likes him: 20%** (People get busy sometimes.)\n",
    "- **Probability of an ignored text if she doesn't like him: 60%** (Even if she doesn't like him, there's a good chance she'd text him to let him know.)"
   ]
  },
  {
   "cell_type": "code",
   "execution_count": 12,
   "metadata": {
    "collapsed": false
   },
   "outputs": [
    {
     "data": {
      "text/plain": [
       "<matplotlib.text.Text at 0x1d13774c898>"
      ]
     },
     "execution_count": 12,
     "metadata": {},
     "output_type": "execute_result"
    },
    {
     "data": {
      "image/png": "[encoded data removed]",
      "text/plain": [
       "<matplotlib.figure.Figure at 0x1d13565e2b0>"
      ]
     },
     "metadata": {},
     "output_type": "display_data"
    }
   ],
   "source": [
    "texts = count_bayes(.90, .20, .60)\n",
    "\n",
    "texts.plot()\n",
    "plt.xlabel('Texts not returned')\n",
    "plt.ylabel(\"Probability she likes him\")"
   ]
  },
  {
   "cell_type": "code",
   "execution_count": 78,
   "metadata": {
    "collapsed": false
   },
   "outputs": [
    {
     "data": {
      "text/plain": [
       "0.6666666666666666"
      ]
     },
     "execution_count": 78,
     "metadata": {},
     "output_type": "execute_result"
    }
   ],
   "source": [
    "My advice to Bob would be 3 texts"
   ]
  },
  {
   "cell_type": "code",
   "execution_count": null,
   "metadata": {
    "collapsed": true
   },
   "outputs": [],
   "source": []
  }
 ],
 "metadata": {
  "anaconda-cloud": {},
  "kernelspec": {
   "display_name": "Python [default]",
   "language": "python",
   "name": "python3"
  },
  "language_info": {
   "codemirror_mode": {
    "name": "ipython",
    "version": 3
   },
   "file_extension": ".py",
   "mimetype": "text/x-python",
   "name": "python",
   "nbconvert_exporter": "python",
   "pygments_lexer": "ipython3",
   "version": "3.5.2"
  }
 },
 "nbformat": 4,
 "nbformat_minor": 2
}
