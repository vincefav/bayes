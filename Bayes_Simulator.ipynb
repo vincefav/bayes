{
 "cells": [
  {
   "cell_type": "code",
   "execution_count": 36,
   "metadata": {},
   "outputs": [
    {
     "name": "stdout",
     "output_type": "stream",
     "text": [
      "Populating the interactive namespace from numpy and matplotlib\n"
     ]
    }
   ],
   "source": [
    "import numpy as np\n",
    "import pandas as pd\n",
    "\n",
    "import matplotlib.pyplot as plt\n",
    "import seaborn as sns\n",
    "\n",
    "%pylab inline"
   ]
  },
  {
   "cell_type": "markdown",
   "metadata": {
    "collapsed": true
   },
   "source": [
    "# Bayes' Theorem\n",
    "\n",
    "How to update the probability of an event occuring (A) when you receive new information(B). Bayes' Theorem focuses on two numbers: the \"prior\" probability and the \"posterior\" probability.\n",
    "\n",
    "### Prior\n",
    "\n",
    "The \"prior\" is also called the base rate. Daniel Kahneman called it the \"outside view\" in his book *Thinking Fast and Slow*. It's the probability of something happening with very little additional information or context. Examples include:\n",
    "\n",
    "- The probability of someone having a specific type of cancer\n",
    "- The probability of a recession in a given year\n",
    "- The probability of a rainy day in December\n",
    "\n",
    "\"Proportion\" might be a be better way of thinking of it; you're not really calculating anything -- you're just looking at historical data.\n",
    "\n",
    "### Posterior\n",
    "\n",
    "The posterior is your \"revised\" probability after obtaining additional relevant information.\n",
    "\n",
    "### Formula\n",
    "\n",
    "The formula for Bayes' Theorem is:\n",
    "\n",
    "$$ P(A \\mid B) = \\frac{P(B \\mid A) \\,* P(A)}{P(B)} $$\n",
    "\n",
    "---\n",
    "Where A is your prior probability and B is the new information you obtained. The pipe character should read as \"given\" (probability of A given B, etc.)\n",
    "\n",
    "$ P(A \\mid B) $ is your posterior probability."
   ]
  },
  {
   "cell_type": "markdown",
   "metadata": {},
   "source": [
    "It turns out this is a really useful way to make sense of the world and your experiences. Here's my favorite online calculator if you want to do it without Python:\n",
    "\n",
    "https://ludios.org/bayes/"
   ]
  },
  {
   "cell_type": "markdown",
   "metadata": {},
   "source": [
    "# Example 1\n",
    "\n",
    "Only 1% of women at age forty who participate in a routine mammography test have breast cancer.\n",
    "\n",
    "80% of women who have breast cancer will get positive mammographies, but 9.6% of women who don’t have breast cancer will also get positive mammographies.\n",
    "\n",
    "A woman of this age had a positive mammography in a routine screening. What is the probability that she actually has breast cancer?"
   ]
  },
  {
   "cell_type": "code",
   "execution_count": 24,
   "metadata": {},
   "outputs": [
    {
     "data": {
      "text/plain": [
       "0.07763975155279504"
      ]
     },
     "execution_count": 24,
     "metadata": {},
     "output_type": "execute_result"
    }
   ],
   "source": [
    "# P(A)\n",
    "prior = .01\n",
    "\n",
    "# Positive results\n",
    "false_positive = 0.99 * 0.096\n",
    "true_positive = 0.01 * 0.8\n",
    "\n",
    "event =  false_positive + true_positive\n",
    "\n",
    "# \"80% of women who have breast cancer will get positive mammographies\"\n",
    "# P(B|A)\n",
    "probability_of_event_given_prior_is_true = .8\n",
    "\n",
    "# P(A | B)\n",
    "posterior = \\\n",
    "(probability_of_event_given_prior_is_true * prior)/event\n",
    "\n",
    "posterior"
   ]
  },
  {
   "cell_type": "markdown",
   "metadata": {},
   "source": [
    "What about if you get a negative test? What's the probability you're cancer-free?"
   ]
  },
  {
   "cell_type": "markdown",
   "metadata": {},
   "source": [
    "$$ P(A \\mid B) = \\frac{P(B \\mid A) \\,* P(A)}{P(B)} $$"
   ]
  },
  {
   "cell_type": "code",
   "execution_count": 13,
   "metadata": {},
   "outputs": [
    {
     "data": {
      "text/plain": [
       "0.9977702461648233"
      ]
     },
     "execution_count": 13,
     "metadata": {},
     "output_type": "execute_result"
    }
   ],
   "source": [
    "# Just creating these strings for readability\n",
    "A = 'cancer-free'\n",
    "B = 'negative test'\n",
    "\n",
    "prior = .99\n",
    "\n",
    "# Negative result\n",
    "false_negative = .01 * .20\n",
    "true_negative = .99 * .904\n",
    "\n",
    "# Slightly different variable names this time\n",
    "# (Good for helping you pay attention!)\n",
    "\n",
    "# Negative test given you're cancer free\n",
    "b_given_a = .904\n",
    "p_a = .99\n",
    "p_b = false_negative + true_negative\n",
    "\n",
    "posterior =\\\n",
    "(b_given_a * p_a)/p_b\n",
    "\n",
    "posterior"
   ]
  },
  {
   "cell_type": "markdown",
   "metadata": {},
   "source": [
    "# Pearls\n",
    "\n",
    "Suppose that a barrel contains many small plastic eggs. Some eggs are painted red and some are painted blue. 40% of the eggs in the bin contain pearls, and 60% contain nothing. 30% of eggs containing pearls are painted blue, and 10% of eggs containing nothing are painted blue. What is the probability that a blue egg contains a pearl?"
   ]
  },
  {
   "cell_type": "markdown",
   "metadata": {},
   "source": [
    "$$ P(A \\mid B) = \\frac{P(B \\mid A) \\,* P(A)}{P(B)} $$"
   ]
  },
  {
   "cell_type": "code",
   "execution_count": null,
   "metadata": {},
   "outputs": [],
   "source": [
    "A = 'Pearl'\n",
    "B = 'Blue'\n",
    "\n",
    "b_given_a = .3\n",
    "p_a = .4\n",
    "p_b"
   ]
  },
  {
   "cell_type": "code",
   "execution_count": null,
   "metadata": {},
   "outputs": [],
   "source": []
  },
  {
   "cell_type": "code",
   "execution_count": 30,
   "metadata": {},
   "outputs": [
    {
     "data": {
      "text/plain": [
       "0.6666666666666666"
      ]
     },
     "execution_count": 30,
     "metadata": {},
     "output_type": "execute_result"
    }
   ],
   "source": [
    "\n",
    "\n",
    "# Eggs containing pearls\n",
    "prior = .40\n",
    "\n",
    "# Of those with pearls, which ones are blue?\n",
    "b_given_a = .3\n",
    "\n",
    "# Of those without pearls, which ones are blue?\n",
    "b_given_NOT_a = .1\n",
    "\n",
    "# Now I'm calculating these programatically, but it's the\n",
    "# exact same thing as above where we hard-coded it\n",
    "true_positive = b_given_a * prior\n",
    "false_positive = b_given_NOT_a * (1-prior)\n",
    "\n",
    "p_b = true_positive + false_positive\n",
    "\n",
    "posterior =\\\n",
    "(true_positive)/\\\n",
    "(p_b)\n",
    "\n",
    "posterior"
   ]
  },
  {
   "cell_type": "markdown",
   "metadata": {},
   "source": [
    "Notice that Bayes' Theorem is just saying \"What's the probability that $A$ is true, given all the universes in which $B$ happened?\"\n",
    "\n",
    "Let's turn it into a function..."
   ]
  },
  {
   "cell_type": "code",
   "execution_count": 31,
   "metadata": {},
   "outputs": [],
   "source": [
    "def bayes(prior, b_given_a, b_given_NOT_a):\n",
    "    prior = prior\n",
    "    probability_of_event_given_prior_is_true = b_given_a\n",
    "    probability_of_event_given_prior_is_NOT_true = b_given_NOT_a\n",
    "\n",
    "    true_positive = probability_of_event_given_prior_is_true * prior\n",
    "    false_positive = probability_of_event_given_prior_is_NOT_true * (1-prior)\n",
    "    \n",
    "    posterior =\\\n",
    "    (true_positive)/\\\n",
    "    (true_positive + false_positive)\n",
    "\n",
    "    return posterior"
   ]
  },
  {
   "cell_type": "markdown",
   "metadata": {},
   "source": [
    "# Applying Bayes' Theorem\n",
    "\n",
    "We can do some cool stuff by using this function repeatedly now.\n",
    "\n",
    "For example:\n",
    "\n",
    "Bob is 90% sure he's not a scoundrel, but his dating life hasn't been going so well! How many rejections should get get before he changes his opinion and he's 99% sure he IS a scoundrel?\n",
    "\n",
    "Here are the probabilities I assign to the problem. Of course, this is pretty subjective.\n",
    "\n",
    "- Prior: 10%\n",
    "- Rejection rate if he IS a scoundrel: 95%\n",
    "- Rejection rate if he is NOT a scoundrel: 40%"
   ]
  },
  {
   "cell_type": "code",
   "execution_count": 44,
   "metadata": {},
   "outputs": [],
   "source": [
    "def count_bayes(prior, b_given_a, b_given_NOT_a, thresh=0.99):\n",
    "    \n",
    "    progression = [prior]\n",
    "    count = 0\n",
    "    \n",
    "    # Setting some conditions for this to keep running until we hit 99% certainty\n",
    "    while ((prior < thresh) and (prior > 1 - thresh)) or count == 0:\n",
    "        prior = bayes(prior, b_given_a, b_given_NOT_a)\n",
    "        progression.append(prior)\n",
    "        count += 1\n",
    "\n",
    "    return pd.Series(progression)"
   ]
  },
  {
   "cell_type": "code",
   "execution_count": 45,
   "metadata": {},
   "outputs": [
    {
     "data": {
      "image/png": "[encoded data removed]",
      "text/plain": [
       "<Figure size 432x288 with 1 Axes>"
      ]
     },
     "metadata": {
      "needs_background": "light"
     },
     "output_type": "display_data"
    }
   ],
   "source": [
    "scoundrel = count_bayes(.10, .95, .45)\n",
    "\n",
    "scoundrel.plot()\n",
    "plt.xlabel('Rejections')\n",
    "plt.ylabel('Scoundrel %');"
   ]
  },
  {
   "cell_type": "markdown",
   "metadata": {},
   "source": [
    "It would take about 10 rejections for him to be justified in changing his mind!\n",
    "\n",
    "Now let's say Bob meets Alice and they hit it off. But a week later, she doesn't return a text message. Bob doesn't panic, but then she doesn't return a text the next day either.\n",
    "\n",
    "How many ignored texts should Bob send before he \"takes the hint\"?\n",
    "\n",
    "- **Prior that Alice likes Bob: 90%** (They had a great date!)\n",
    "- **Probability of an ignored text if she likes him: 20%** (People get busy sometimes.)\n",
    "- **Probability of an ignored text if she doesn't like him: 60%** (Even if she doesn't like him, there's a good chance she'd text him to let him know.)"
   ]
  },
  {
   "cell_type": "markdown",
   "metadata": {},
   "source": [
    "texts = count_bayes(.90, .20, .60)\n",
    "\n",
    "texts.plot()\n",
    "plt.xlabel('Texts not returned')\n",
    "plt.ylabel(\"Probability she likes him\")"
   ]
  },
  {
   "cell_type": "markdown",
   "metadata": {},
   "source": [
    "My advice to Bob would be 3 texts. This would give him about 75% certainty without him having to keep pestering her."
   ]
  },
  {
   "cell_type": "markdown",
   "metadata": {},
   "source": [
    "# Final example\n",
    "\n",
    "The new guy is late on his first day! How many more times should we tolerate this behavior before concluding that we hired a dud?\n",
    "\n",
    "Subjective probabilties (as usual:\n",
    "\n",
    "- Probability of making a bad hire: 20%\n",
    "- Probability a bad hire would be late: 75%\n",
    "- Probability a good hire would be late: 5%"
   ]
  },
  {
   "cell_type": "code",
   "execution_count": 49,
   "metadata": {},
   "outputs": [
    {
     "data": {
      "image/png": "[encoded data removed]",
      "text/plain": [
       "<Figure size 432x288 with 1 Axes>"
      ]
     },
     "metadata": {
      "needs_background": "light"
     },
     "output_type": "display_data"
    }
   ],
   "source": [
    "hired_a_dud = count_bayes(.2, .70, .5, thresh=.8)\n",
    "\n",
    "hired_a_dud.plot()\n",
    "plt.xlabel('Late arrivals')\n",
    "plt.ylabel('Dud %');"
   ]
  },
  {
   "cell_type": "markdown",
   "metadata": {},
   "source": [
    "It would actually take 9 or so late arrivals before you could form a conclusion with any reasonable level of certainty. I hope this illustrates why you should be VERY hesitant to draw conclusions from 1-off or 2-off events. There are a LOT of coincidences in life.\n",
    "\n",
    "**But also consider:**\n",
    "\n",
    "You can continuously change your prior based on other evidence. Maybe he \"forgets\" about a task he was responsible for, and your prior of him being a bad hire jumps from 20% to 75% based on that alone.\n",
    "\n",
    "You shouldn't feel any skepticism towards Bayes' Theorem; it's practically bulletproof. If you're not getting results that make sense to you, then you need to adjust your input probabilities. Your prior is typically the most likely culprit."
   ]
  }
 ],
 "metadata": {
  "anaconda-cloud": {},
  "kernelspec": {
   "display_name": "Python 3",
   "language": "python",
   "name": "python3"
  },
  "language_info": {
   "codemirror_mode": {
    "name": "ipython",
    "version": 3
   },
   "file_extension": ".py",
   "mimetype": "text/x-python",
   "name": "python",
   "nbconvert_exporter": "python",
   "pygments_lexer": "ipython3",
   "version": "3.7.3"
  }
 },
 "nbformat": 4,
 "nbformat_minor": 2
}
